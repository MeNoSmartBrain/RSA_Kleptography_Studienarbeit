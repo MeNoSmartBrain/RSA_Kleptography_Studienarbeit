{
 "cells": [
  {
   "cell_type": "markdown",
   "metadata": {},
   "source": [
    "# TODO\n",
    "- vP is not allow to be 0 or 1\n",
    "- add everything to dictionaries\n",
    "- attacker only works with dict\n",
    "- optimise\n",
    "- try catch when non invertible prime\n",
    "- t must not be prime --> optimise\n",
    "- when there is no R large/ small en\n",
    "- when delta of bounds is small then the possibility of a new generation of p is high \n",
    "- when p is smaller than there is is higher chance of success\n",
    "- Problem when m>=n \n",
    "- Use secret module instead of the random module for cryptographic purposes\n",
    "- camelCase to snake_case if required\n",
    "- gen_prime() is not used"
   ]
  },
  {
   "cell_type": "markdown",
   "metadata": {},
   "source": [
    "### Import and Configuration"
   ]
  },
  {
   "cell_type": "code",
   "execution_count": 873,
   "metadata": {},
   "outputs": [],
   "source": [
    "import sympy\n",
    "import random\n",
    "import coloredlogs, logging"
   ]
  },
  {
   "cell_type": "code",
   "execution_count": 874,
   "metadata": {},
   "outputs": [],
   "source": [
    "coloredlogs.install(fmt='%(levelname)s %(message)s')\n",
    "logger = logging.getLogger()\n",
    "logger.setLevel(logging.NOTSET)"
   ]
  },
  {
   "cell_type": "code",
   "execution_count": 875,
   "metadata": {},
   "outputs": [],
   "source": [
    "MIN_PRIME = 0\n",
    "MAX_PRIME = 1024\n",
    "OPT_RANGE_REDUCTION = 24\n",
    "\n",
    "MAX_ITERS = 10\n",
    "\n",
    "msg = 12345678900987654321"
   ]
  },
  {
   "cell_type": "code",
   "execution_count": 876,
   "metadata": {},
   "outputs": [],
   "source": [
    "def gen_prime():\n",
    "    return sympy.randprime(pow(2,MIN_PRIME), pow(2,MAX_PRIME))\n",
    "\n",
    "def gen_prime_with_optimized_bit_limit():\n",
    "    return sympy.randprime(pow(2,MIN_PRIME), pow(2,MAX_PRIME-OPT_RANGE_REDUCTION))\n",
    "\n",
    "def gen_prime_with_boundaries(lb, ub):\n",
    "    return sympy.randprime(lb, ub)\n",
    "\n",
    "def gen_prime_half_size():\n",
    "    return sympy.randprime(pow(2,MIN_PRIME/2), pow(2,MAX_PRIME/2))\n",
    "\n",
    "def gen_random_number_with_bit_limit():\n",
    "    return random.randint(0, pow(2, MAX_PRIME))\n",
    "\n",
    "def fermat_prime():\n",
    "    i = random.randint(0,4)\n",
    "    return pow(2, pow(2, i)) + 1\n",
    "\n",
    "def modular_multiplicative_inverse(E, phiN):\n",
    "    return pow(E, -1, phiN)\n",
    "\n",
    "def calc_n(P, Q):\n",
    "    return P*Q\n",
    "\n",
    "def calc_phi_n(P, Q):\n",
    "    return (P-1) * (Q-1)\n",
    "\n",
    "def to_binary(dec):\n",
    "    return \"{0:b}\".format(dec)\n",
    "\n",
    "def to_decimal(bin):\n",
    "    return int(bin, 2)\n",
    "\n",
    "def concatenate_in_binary(prev, tail):\n",
    "    prev = to_binary(prev)\n",
    "    tail = to_binary(tail)\n",
    "\n",
    "    prev = \"0\"*(MAX_PRIME-len(prev)) + prev\n",
    "    tail = \"0\"*(MAX_PRIME-len(tail)) + tail\n",
    "\n",
    "    return to_decimal(prev + tail)\n",
    "\n",
    "def split_in_binary(bin):\n",
    "    bin = to_binary(bin)\n",
    "    bin = \"0\"*(MAX_PRIME*2-len(bin)) + bin\n",
    "    prev = bin[:len(bin)//2]\n",
    "    tail = bin[len(bin)//2:]\n",
    "    return(to_decimal(prev), to_decimal(tail))\n",
    "\n"
   ]
  },
  {
   "cell_type": "markdown",
   "metadata": {},
   "source": [
    "# Voraussetzungen"
   ]
  },
  {
   "cell_type": "code",
   "execution_count": 877,
   "metadata": {},
   "outputs": [
    {
     "name": "stderr",
     "output_type": "stream",
     "text": [
      "\u001b[1;30mINFO\u001b[0m Attacker Key successfully generated!\n"
     ]
    }
   ],
   "source": [
    "def create_attacker_key():\n",
    "    a_P = gen_prime_half_size()\n",
    "    a_Q= gen_prime_half_size()\n",
    "\n",
    "\n",
    "    a_PhiN = calc_phi_n(a_P, a_Q)\n",
    "    a_N = calc_n(a_P, a_Q)\n",
    "\n",
    "    a_E = fermat_prime()\n",
    "    a_D = modular_multiplicative_inverse(a_E, a_PhiN)\n",
    "\n",
    "    return {\n",
    "        \"P\" : a_P,\n",
    "        \"Q\" : a_Q,\n",
    "        \"PhiN\" : a_PhiN,\n",
    "        \"N\" : a_N,\n",
    "        \"E\" : a_E,\n",
    "        \"D\" : a_D\n",
    "    }\n",
    "\n",
    "attacker = {}\n",
    "\n",
    "created = False\n",
    "while not created:\n",
    "    try:\n",
    "        attacker = create_attacker_key()\n",
    "        created = True\n",
    "    except ValueError:\n",
    "            logger.error(\"Trying to generate Key failed. Trying again ...\")\n",
    "logger.info(\"Attacker Key successfully generated!\")"
   ]
  },
  {
   "cell_type": "markdown",
   "metadata": {},
   "source": [
    "# Generierung und Verschlüsselung"
   ]
  },
  {
   "cell_type": "markdown",
   "metadata": {},
   "source": [
    "## Schritt 1, 2 und 3"
   ]
  },
  {
   "cell_type": "code",
   "execution_count": 878,
   "metadata": {},
   "outputs": [
    {
     "name": "stderr",
     "output_type": "stream",
     "text": [
      "\u001b[1;30mINFO\u001b[0m Bounds: [324882239607288299194949213657925249187325562423797835761569847534279587980953013777783960352315086513893155555011207841926195233556297148395289209983763420368670606688825853725629767594517299272954559150747772777513025361705671662921398805520123403178359358435525772037244600569499279320537396789998724304637839250, 324882239607288299194949213657925249187325562423797835761569847534279587980953013777783960352315086513893155555011207841926195233556297148395289209983763420368670606688825853725629767594517299272954559150747772777513025361705671662921398805520123403178359358435525772037244600569499279320537396789998724304662674935] \t P: 7238347394853575949602935516577307775305468714935605453708624210506743041124224080871754162137062392631380733602218925107688610451678047760020053727395370011525029463908481696618453789715755384674201870996145581510459250489906325821845038097775670961078277553748874585733458348690730376651156073988289 \t deltaB: 24835685\n",
      "\u001b[1;30mINFO\u001b[0m Amount of failed attempts: 0\n",
      "\u001b[1;30mINFO\u001b[0m tempN = P * Q + R\n",
      "\u001b[1;30mINFO\u001b[0m 2351610512695610510066372476909530196976556839306659930140475547868361190595184145945466261160014597527819861308516692180828207070968663685863855398434619279643247033318608949095159574196496395110239201002540182191873656248527284859572073148839617441018112630338909313943190957760420640999134761266271043583103688134895764719388479503882770218935521685495453324948839156612044305599709498905676819454203570512256767379553834320275701920379133775180941405419731739211509996236573239694210991560244075845670554889316037692033780720955901167059665506887166431809651076643162974400034212382501409379373415618564958300129 = 7238347394853575949602935516577307775305468714935605453708624210506743041124224080871754162137062392631380733602218925107688610451678047760020053727395370011525029463908481696618453789715755384674201870996145581510459250489906325821845038097775670961078277553748874585733458348690730376651156073988289 * 324882239607288299194949213657925249187325562423797835761569847534279587980953013777783960352315086513893155555011207841926195233556297148395289209983763420368670606688825853725629767594517299272954559150747772777513025361705671662921398805520123403178359358435525772037244600569499279320537396789998724304643536869 + 138527971947812486402957291143347001365727646806337141907548236069922645867921379949236999575125950820399232619248020064420578132043407461993170627625684676399570965637024121479107468786272486614000394116994500733019614613908415739264572295908452171489034123281287963366037884268941900472750294857953112572988\n"
     ]
    }
   ],
   "source": [
    "r_too_large = 0\n",
    "bounds_too_close = 0\n",
    "\n",
    "# Do I have a problem when R = 0?\n",
    "# This has to be optimized\n",
    "# BAD Inspiration from https://www.cryptool.org/assets/ctp/documents/Kleptografie_kes_4-2010.pdf\n",
    "user = {}\n",
    "\n",
    "valid = False\n",
    "while not valid:\n",
    "    # Schritt 1\n",
    "    P = gen_prime_with_optimized_bit_limit()\n",
    "    vP = pow(P, attacker[\"E\"] ,attacker[\"N\"])\n",
    "\n",
    "    # Schritt 2\n",
    "    t = gen_random_number_with_bit_limit() \n",
    "    tempN = concatenate_in_binary(vP, t)\n",
    "    \n",
    "    # Schritt 3\n",
    "    # This is wrong, search for Q first. len(Q) ~ len(P). Q not max\n",
    "    ub = int(int(tempN)//int(P)) \n",
    "    lb = int((tempN - pow(2, MAX_PRIME) + 1) // P) \n",
    "    logger.info(\"Bounds: [{0}, {1}] \\t P: {2} \\t deltaB: {3}\".format(lb,ub,P, ub-lb))\n",
    "    R = 0\n",
    "    Q = 0\n",
    "    try:\n",
    "        for i in range(MAX_ITERS):\n",
    "            Q = int(gen_prime_with_boundaries(lb, ub))\n",
    "            R = tempN - P*Q\n",
    "\n",
    "            if (R < pow(2,MAX_PRIME+1) and R >= 0):\n",
    "                valid = True\n",
    "                break\n",
    "            r_too_large += 1\n",
    "    except ValueError:\n",
    "        pass\n",
    "    user[\"P\"] = P\n",
    "    user[\"Q\"] = Q\n",
    "\n",
    "attacker[\"vP\"] = vP\n",
    "attacker[\"R\"] = R\n",
    "\n",
    "logger.info(\"Amount of failed attempts: {0}\".format(r_too_large))\n",
    "\n",
    "logger.info(\"tempN = P * Q + R\")\n",
    "logger.info(\"{0} = {1} * {2} + {3}\".format(tempN, P, Q, R))"
   ]
  },
  {
   "cell_type": "markdown",
   "metadata": {},
   "source": [
    "## Schritt 4"
   ]
  },
  {
   "cell_type": "code",
   "execution_count": 879,
   "metadata": {},
   "outputs": [],
   "source": [
    "user[\"N\"] = calc_n(user[\"P\"], user[\"Q\"])"
   ]
  },
  {
   "cell_type": "markdown",
   "metadata": {},
   "source": [
    "## Schritt 5"
   ]
  },
  {
   "cell_type": "code",
   "execution_count": 880,
   "metadata": {},
   "outputs": [
    {
     "name": "stderr",
     "output_type": "stream",
     "text": [
      "\u001b[1;30mINFO\u001b[0m User Key successfully generated!\n"
     ]
    }
   ],
   "source": [
    "def create_user_key():\n",
    "    PhiN = calc_phi_n(P, Q)\n",
    "    E = fermat_prime()\n",
    "    D = modular_multiplicative_inverse(E, PhiN)\n",
    "\n",
    "    return  {\n",
    "        \"PhiN\" : PhiN,\n",
    "        \"E\" : E,\n",
    "        \"D\" : D\n",
    "    }\n",
    "\n",
    "created = False\n",
    "while not created:\n",
    "    try:\n",
    "        user.update(create_user_key())\n",
    "        created = True\n",
    "    except ValueError:\n",
    "            logger.info(\"Trying to generate Key failed. Trying again ...\")\n",
    "logger.info(\"User Key successfully generated!\")"
   ]
  },
  {
   "cell_type": "markdown",
   "metadata": {},
   "source": [
    "## Schritt 6"
   ]
  },
  {
   "cell_type": "code",
   "execution_count": 881,
   "metadata": {},
   "outputs": [],
   "source": [
    "cipher = pow(msg, user[\"E\"], user[\"N\"])\n",
    "signature = pow(msg, user[\"D\"], user[\"N\"])"
   ]
  },
  {
   "cell_type": "markdown",
   "metadata": {},
   "source": [
    "# Angriff"
   ]
  },
  {
   "cell_type": "code",
   "execution_count": 882,
   "metadata": {},
   "outputs": [],
   "source": [
    "class Calc_Secret_Result():\n",
    "    was_successfull = True\n",
    "    key_parameter = {}"
   ]
  },
  {
   "cell_type": "code",
   "execution_count": 883,
   "metadata": {},
   "outputs": [],
   "source": [
    "def calc_secrets(vP):\n",
    "    calc_secret_result = Calc_Secret_Result()\n",
    "\n",
    "    P = pow(vP, attacker[\"D\"], attacker[\"N\"])\n",
    "    # Potential to optimize when N/P not hole Number\n",
    "    Q =  int(pub_user[\"N\"]//P)\n",
    "    PhiN =  int(calc_phi_n(P, Q))\n",
    "    try:\n",
    "        D = modular_multiplicative_inverse(pub_user[\"E\"], PhiN)\n",
    "        calc_secret_result.key_parameter = {\n",
    "        \"P\" : P,\n",
    "        \"Q\" : Q,\n",
    "        \"PhiN\" : PhiN,\n",
    "        \"D\" : D, \n",
    "    }\n",
    "    except ValueError:\n",
    "        calc_secret_result.was_successfull = False\n",
    "        logger.info(\"Trying to generate Key failed. Trying again ...\")\n",
    "    \n",
    "    return calc_secret_result"
   ]
  },
  {
   "cell_type": "code",
   "execution_count": 884,
   "metadata": {},
   "outputs": [],
   "source": [
    "def validate_through_signature(key_parameter):\n",
    "    key_parameter[\"Sig\"] = pow(msg, key_parameter[\"D\"], collection_user[\"N\"])\n",
    "    if (key_parameter[\"Sig\"] == signature):\n",
    "        collection_user.update(key_parameter)\n",
    "        return True\n",
    "    return False\n",
    "    "
   ]
  },
  {
   "cell_type": "markdown",
   "metadata": {},
   "source": [
    "## Schritt 1"
   ]
  },
  {
   "cell_type": "code",
   "execution_count": 885,
   "metadata": {},
   "outputs": [],
   "source": [
    "pub_user = {\n",
    "    \"N\" : user[\"N\"],\n",
    "    \"E\" : user[\"E\"]\n",
    "}\n",
    "\n",
    "collection_user = {\n",
    "    \"N\" : pub_user[\"N\"],\n",
    "    \"E\" : pub_user[\"E\"]\n",
    "}"
   ]
  },
  {
   "cell_type": "markdown",
   "metadata": {},
   "source": [
    "## Schritt 2"
   ]
  },
  {
   "cell_type": "code",
   "execution_count": 886,
   "metadata": {},
   "outputs": [],
   "source": [
    "collection_user[\"vP\"] = split_in_binary(user[\"N\"])[0]\n",
    "collection_user[\"vP'\"] = collection_user[\"vP\"]+1"
   ]
  },
  {
   "cell_type": "code",
   "execution_count": 887,
   "metadata": {},
   "outputs": [
    {
     "name": "stderr",
     "output_type": "stream",
     "text": [
      "\u001b[1;30mINFO\u001b[0m Both key parameters of D were successfully calculated.\n",
      "\u001b[1;30mINFO\u001b[0m D' is the right privat Key: 649666717515129751808219633698741805390410644322073365914294801162076437868708460553027644133700530834533891645543521964353317906765661952125812191785439567527900931383740215508779493260510677248354020510429388854564317485001701264706681687033512989541968858965223973890920459147820488369410770622199303609928071025627000397327620513579760025897021148069649411581045658733197164322957112314794953690184743472163615935396513488508122993106650430479694502175514985219850170111581228569147622291024840435526249070425264041101122193267304518579418505318542194654639078296967996500401592451966631206833832382668210514945\n"
     ]
    }
   ],
   "source": [
    "secrets_for_vP = calc_secrets(collection_user[\"vP\"])\n",
    "secrets_for_vP_plus_one = calc_secrets(collection_user[\"vP'\"])\n",
    "\n",
    "if(secrets_for_vP.was_successfull and secrets_for_vP_plus_one.was_successfull):\n",
    "    logger.info(\"Both key parameters of D were successfully calculated.\")\n",
    "    if(validate_through_signature(secrets_for_vP.key_parameter)):\n",
    "        logger.info(\"D is the right privat Key: {0}\".format(collection_user[\"D\"]))\n",
    "    elif(validate_through_signature(secrets_for_vP_plus_one.key_parameter)):\n",
    "        logger.info(\"D' is the right privat Key: {0}\".format(collection_user[\"D\"]))\n",
    "elif(not secrets_for_vP.was_successfull and not secrets_for_vP_plus_one.was_successfull):\n",
    "    logger.error(\"Both key parameters calculated with errors!\")\n",
    "elif(not secrets_for_vP_plus_one.was_successfull):\n",
    "    logger.info(\"Second key parameters calculated with error! First key parameters must be correct!\")\n",
    "    if(validate_through_signature(secrets_for_vP.key_parameter)):\n",
    "        logger.info(\"D is the right privat Key: {0}\".format(collection_user[\"D\"]))\n",
    "elif(not secrets_for_vP.was_successfull):\n",
    "    logger.info(\"First key parameters calculated with error! Second key parameters must be correct!\")\n",
    "    if(validate_through_signature(secrets_for_vP_plus_one.key_parameter)):\n",
    "        logger.info(\"D' is the right privat Key: {0}\".format(collection_user[\"D\"]))\n",
    "else:\n",
    "    logger.error(\"Logical programming error!\")\n"
   ]
  },
  {
   "cell_type": "markdown",
   "metadata": {},
   "source": [
    "# Result"
   ]
  },
  {
   "cell_type": "code",
   "execution_count": 888,
   "metadata": {},
   "outputs": [],
   "source": [
    "def sort_dic(dict):\n",
    "    return {key: dict[key] for key in sorted(dict)}"
   ]
  },
  {
   "cell_type": "code",
   "execution_count": 889,
   "metadata": {},
   "outputs": [],
   "source": [
    "# logger.info(sort_dic(attacker))\n",
    "# logger.info(sort_dic(user))\n",
    "# logger.info(sort_dic(collection_user))"
   ]
  },
  {
   "cell_type": "markdown",
   "metadata": {},
   "source": [
    "# Validation Tests"
   ]
  },
  {
   "cell_type": "markdown",
   "metadata": {},
   "source": [
    "### Validation test for vP"
   ]
  },
  {
   "cell_type": "code",
   "execution_count": 890,
   "metadata": {},
   "outputs": [
    {
     "name": "stderr",
     "output_type": "stream",
     "text": [
      "\u001b[1;30mINFO\u001b[0m Success!!!\n",
      "\u001b[1;30mINFO\u001b[0m The variable vP or vP' is in the expected state: 13081267692974300404568690396662691591533690788544911975002122779552442741332048459678180090984816523005338375978187861058067512795443238045182407449208128987127733060914521514543566236203784878270741518478249743348230638936484037340430246737058094280634835491057155448402634049126835317916067578596130921737\n",
      "\u001b[1;30mINFO\u001b[0m Current vP: 13081267692974300404568690396662691591533690788544911975002122779552442741332048459678180090984816523005338375978187861058067512795443238045182407449208128987127733060914521514543566236203784878270741518478249743348230638936484037340430246737058094280634835491057155448402634049126835317916067578596130921736 \t Current vP': 13081267692974300404568690396662691591533690788544911975002122779552442741332048459678180090984816523005338375978187861058067512795443238045182407449208128987127733060914521514543566236203784878270741518478249743348230638936484037340430246737058094280634835491057155448402634049126835317916067578596130921737\n"
     ]
    }
   ],
   "source": [
    "testVar = \"vP\"\n",
    "altTestVar = \"vP'\"\n",
    "\n",
    "if(collection_user[testVar] == attacker[testVar] or collection_user[altTestVar] == attacker[testVar]):\n",
    "    logger.info(\"Success!!!\")\n",
    "    logger.info(\"The variable {0} or {1} is in the expected state: {2}\".format(testVar, altTestVar, attacker[testVar]))\n",
    "    logger.info(\"Current {0}: {1} \\t Current {2}: {3}\".format(testVar, collection_user[testVar], altTestVar, collection_user[altTestVar]))\n",
    "else:\n",
    "    logger.error(\"Error!!!\")\n",
    "    logger.error(\"The variable {0} doesn't have the expected value.\".format(testVar))\n",
    "    logger.error(\"Expected: {0} \\t Current: {1}\".format(attacker[testVar], collection_user[testVar]))"
   ]
  },
  {
   "cell_type": "markdown",
   "metadata": {},
   "source": [
    "### Validation test for P and P'"
   ]
  },
  {
   "cell_type": "code",
   "execution_count": 891,
   "metadata": {},
   "outputs": [
    {
     "name": "stderr",
     "output_type": "stream",
     "text": [
      "\u001b[1;30mINFO\u001b[0m Success!!!\n",
      "\u001b[1;30mINFO\u001b[0m The variables P are in the expected state:\n",
      "\u001b[1;30mINFO\u001b[0m Current P: 7238347394853575949602935516577307775305468714935605453708624210506743041124224080871754162137062392631380733602218925107688610451678047760020053727395370011525029463908481696618453789715755384674201870996145581510459250489906325821845038097775670961078277553748874585733458348690730376651156073988289\n"
     ]
    }
   ],
   "source": [
    "testVar = \"P\"\n",
    "\n",
    "if(collection_user[testVar] == user[testVar]):\n",
    "    logger.info(\"Success!!!\")\n",
    "    logger.info(\"The variables {0} are in the expected state:\".format(testVar))\n",
    "    logger.info(\"Current {0}: {1}\".format(testVar, collection_user[testVar]))\n",
    "else:\n",
    "    logger.error(\"Error!!!\")\n",
    "    logger.error(\"The variable {0} doesn't have the expected value.\".format(testVar))\n",
    "    logger.error(\"Expected: {0} \\t Current: {1}\".format(user[testVar], collection_user[testVar]))"
   ]
  },
  {
   "cell_type": "markdown",
   "metadata": {},
   "source": [
    "### Validation test for Q and Q'"
   ]
  },
  {
   "cell_type": "code",
   "execution_count": 892,
   "metadata": {},
   "outputs": [
    {
     "name": "stderr",
     "output_type": "stream",
     "text": [
      "\u001b[1;30mINFO\u001b[0m Success!!!\n",
      "\u001b[1;30mINFO\u001b[0m The variables Q are in the expected state!\n",
      "\u001b[1;30mINFO\u001b[0m Current Q: 324882239607288299194949213657925249187325562423797835761569847534279587980953013777783960352315086513893155555011207841926195233556297148395289209983763420368670606688825853725629767594517299272954559150747772777513025361705671662921398805520123403178359358435525772037244600569499279320537396789998724304643536869\n"
     ]
    }
   ],
   "source": [
    "testVar = \"Q\"\n",
    "\n",
    "if(collection_user[testVar] == user[testVar]):\n",
    "    logger.info(\"Success!!!\")\n",
    "    logger.info(\"The variables {0} are in the expected state!\".format(testVar))\n",
    "    logger.info(\"Current {0}: {1}\".format(testVar, collection_user[testVar]))\n",
    "else:\n",
    "    logger.error(\"Error!!!\")\n",
    "    logger.error(\"The variable {0} doesn't have the expected value.\".format(testVar))\n",
    "    logger.error(\"Expected: {0} \\t Current: {1}\".format(user[testVar], attacker[testVar]))"
   ]
  },
  {
   "cell_type": "markdown",
   "metadata": {},
   "source": [
    "### Validation test for PhiN and PhiN'"
   ]
  },
  {
   "cell_type": "code",
   "execution_count": 893,
   "metadata": {},
   "outputs": [
    {
     "name": "stderr",
     "output_type": "stream",
     "text": [
      "\u001b[1;30mINFO\u001b[0m Success!!!\n",
      "\u001b[1;30mINFO\u001b[0m The variables PhiN are in the expected state:\n",
      "\u001b[1;30mINFO\u001b[0m Current PhiN: 2351610512695610510066372476909530196976556839306659930140475547868361190595184145945466261160014597527819861308516692180828207070968663685863855398434619279643247033318608949095159574196496395110239201002540182191873656248527284859572073148839617441018112630338909313943190957760420640999134761266270718700725552867410409888918288337887300375430062465547885898258151187245516496211267293871863423920809564399240130921083154458402642383498720572299739254353624664809880193220794024539027308856244844956764028325342152937506878924925313539083247265730497803186510466511560212684552243100780622819102745385151128201984\n"
     ]
    }
   ],
   "source": [
    "testVar = \"PhiN\"\n",
    "\n",
    "if(collection_user[testVar] == user[testVar]):\n",
    "    logger.info(\"Success!!!\")\n",
    "    logger.info(\"The variables {0} are in the expected state:\".format(testVar))\n",
    "    logger.info(\"Current {0}: {1}\".format(testVar, collection_user[testVar]))\n",
    "else:\n",
    "    logger.error(\"Error!!!\")\n",
    "    logger.error(\"The variable {0} doesn't have the expected value.\".format(testVar))\n",
    "    logger.error(\"Expected: {0} \\t Current: {1}\".format(user[testVar], collection_user[testVar]))"
   ]
  },
  {
   "cell_type": "markdown",
   "metadata": {},
   "source": [
    "### Validation test for D and D'"
   ]
  },
  {
   "cell_type": "code",
   "execution_count": 894,
   "metadata": {},
   "outputs": [
    {
     "name": "stderr",
     "output_type": "stream",
     "text": [
      "\u001b[1;30mINFO\u001b[0m Success!!!\n",
      "\u001b[1;30mINFO\u001b[0m The variables D are in the expected state:\n",
      "\u001b[1;30mINFO\u001b[0m Current D: 649666717515129751808219633698741805390410644322073365914294801162076437868708460553027644133700530834533891645543521964353317906765661952125812191785439567527900931383740215508779493260510677248354020510429388854564317485001701264706681687033512989541968858965223973890920459147820488369410770622199303609928071025627000397327620513579760025897021148069649411581045658733197164322957112314794953690184743472163615935396513488508122993106650430479694502175514985219850170111581228569147622291024840435526249070425264041101122193267304518579418505318542194654639078296967996500401592451966631206833832382668210514945\n"
     ]
    }
   ],
   "source": [
    "testVar = \"D\"\n",
    "altTestVar = \"D'\"\n",
    "\n",
    "if(collection_user[testVar] == user[testVar]):\n",
    "    logger.info(\"Success!!!\")\n",
    "    logger.info(\"The variables {0} are in the expected state:\".format(testVar))\n",
    "    logger.info(\"Current {0}: {1}\".format(testVar, collection_user[testVar]))\n",
    "else:\n",
    "    logger.error(\"Error!!!\")\n",
    "    logger.error(\"The variable {0} doesn't have the expected value.\".format(testVar))\n",
    "    logger.error(\"Expected: {0} \\t Current: {1}\".format(user[testVar], collection_user[testVar]))"
   ]
  },
  {
   "cell_type": "markdown",
   "metadata": {},
   "source": [
    "### Validation test for signature and signature'"
   ]
  },
  {
   "cell_type": "code",
   "execution_count": 895,
   "metadata": {},
   "outputs": [
    {
     "name": "stderr",
     "output_type": "stream",
     "text": [
      "\u001b[1;30mINFO\u001b[0m D is the right privat Key: 2012533026719670336471083813922342887078023252894984322573515535244308031081529658558050899420109969617021137400059246506772334250849961538273825585477142560493909858989898278201535300540412304918768137159128296270427951854790935696026419248408778200351393775366826393014262482515957659455203306630131548995709865493909738496546085118984423151624632415319587008675829528589333387543170332671661796017723525654132401831759997928736022966401082716967183752281864479145938443786559962580138915323412608839759522750373082985180375221533147786241057198356704611061980132296440035146874903995681251893043723788504514631801\n"
     ]
    }
   ],
   "source": [
    "testVar = \"Sig\"\n",
    "\n",
    "if(collection_user[testVar] == signature):\n",
    "    collection_user[\"correct_key\"] = \"D\"\n",
    "    logger.info(\"D is the right privat Key: {0}\".format(collection_user[testVar]))\n",
    "else:\n",
    "    logger.error(\"Message was incorrectly signed!\")"
   ]
  }
 ],
 "metadata": {
  "interpreter": {
   "hash": "3758460f21197c8ccb9ff5aa273a08373d5a6b6c33118830d2be09d2cc1bf35f"
  },
  "kernelspec": {
   "display_name": "Python 3.9.10 64-bit (windows store)",
   "language": "python",
   "name": "python3"
  },
  "language_info": {
   "codemirror_mode": {
    "name": "ipython",
    "version": 3
   },
   "file_extension": ".py",
   "mimetype": "text/x-python",
   "name": "python",
   "nbconvert_exporter": "python",
   "pygments_lexer": "ipython3",
   "version": "3.9.0"
  },
  "orig_nbformat": 4
 },
 "nbformat": 4,
 "nbformat_minor": 2
}
