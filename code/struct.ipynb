{
 "cells": [
  {
   "cell_type": "markdown",
   "metadata": {},
   "source": [
    "# TODO\n",
    "- vP is not allow to be 0\n",
    "- add everything to dictionaries\n",
    "- attacker only works with dict\n",
    "- optimise\n",
    "- try catch when non invertible prime\n",
    "\n"
   ]
  },
  {
   "cell_type": "code",
   "execution_count": 154,
   "metadata": {},
   "outputs": [],
   "source": [
    "MIN_PRIME = 0\n",
    "MAX_PRIME = 10\n",
    "\n",
    "msg = 12345678900987654321"
   ]
  },
  {
   "cell_type": "code",
   "execution_count": 155,
   "metadata": {},
   "outputs": [],
   "source": [
    "import sympy\n",
    "import random\n",
    "\n",
    "def genPrime():\n",
    "    return sympy.randprime(pow(2,MIN_PRIME), pow(2,MAX_PRIME))\n",
    "\n",
    "def genPrimeWithLimit(max):\n",
    "    return sympy.randprime(pow(2,MIN_PRIME), max)\n",
    "\n",
    "def genSmallPrime():\n",
    "    return sympy.randprime(pow(2,MIN_PRIME/2), pow(2,MAX_PRIME/2))\n",
    "\n",
    "def fermatPrime():\n",
    "    i = random.randint(0,4)\n",
    "    return pow(2, pow(2, i)) + 1\n",
    "\n",
    "def mmi(E, phiN):\n",
    "    return pow(E, -1, phiN)\n",
    "\n",
    "def calcN(P, Q):\n",
    "    return P*Q\n",
    "\n",
    "def calcPhiN(P, Q):\n",
    "    return (P-1) * (Q-1)\n",
    "\n",
    "def toBinary(dec):\n",
    "    return \"{0:b}\".format(dec)\n",
    "\n",
    "def toDecimal(bin):\n",
    "    return int(bin, 2)\n",
    "\n",
    "def concatenateInBinary(prev, tail):\n",
    "    prev = toBinary(prev)\n",
    "    tail = toBinary(tail)\n",
    "\n",
    "    while len(prev) <= MAX_PRIME:\n",
    "        prev = \"0\" + prev\n",
    "\n",
    "    while len(tail) <= MAX_PRIME:\n",
    "        tail = \"0\" + tail\n",
    "\n",
    "    return toDecimal(prev + tail)\n",
    "\n",
    "def splitInBinary(bin):\n",
    "    bin = toBinary(bin)\n",
    "    while len(bin) <= MAX_PRIME*2:\n",
    "        bin = \"0\" + bin\n",
    "    prev = bin[:len(bin)//2]\n",
    "    tail = bin[len(bin)//2:]\n",
    "    return(toDecimal(prev), toDecimal(tail))\n",
    "\n"
   ]
  },
  {
   "cell_type": "markdown",
   "metadata": {},
   "source": [
    "# Voraussetzungen"
   ]
  },
  {
   "cell_type": "code",
   "execution_count": 156,
   "metadata": {},
   "outputs": [
    {
     "name": "stdout",
     "output_type": "stream",
     "text": [
      "{'P': 17, 'Q': 23, 'PhiN': 352, 'N': 391, 'E': 257, 'D': 289}\n"
     ]
    }
   ],
   "source": [
    "a_P = genSmallPrime()\n",
    "a_Q= genSmallPrime()\n",
    "\n",
    "\n",
    "a_PhiN = calcPhiN(a_P, a_Q)\n",
    "a_N = calcN(a_P, a_Q)\n",
    "\n",
    "a_E = fermatPrime()\n",
    "a_D = mmi(a_E, a_PhiN)\n",
    "\n",
    "Attacker = {\n",
    "    \"P\" : a_P,\n",
    "    \"Q\" : a_Q,\n",
    "    \"PhiN\" : a_PhiN,\n",
    "    \"N\" : a_N,\n",
    "    \"E\" : a_E,\n",
    "    \"D\" : a_D\n",
    "}\n",
    "\n",
    "print(Attacker)"
   ]
  },
  {
   "cell_type": "markdown",
   "metadata": {},
   "source": [
    "# Generierung und Verschlüsselung"
   ]
  },
  {
   "cell_type": "markdown",
   "metadata": {},
   "source": [
    "## Schritt 1, 2 und 3"
   ]
  },
  {
   "cell_type": "code",
   "execution_count": 157,
   "metadata": {},
   "outputs": [
    {
     "name": "stdout",
     "output_type": "stream",
     "text": [
      "Amount of failed attempts 244\n",
      "592 379\n",
      "31 397\n",
      "63885\n",
      "tempN = P * Q + R\n",
      "63885 = 167 * 379 + 592\n"
     ]
    }
   ],
   "source": [
    "r_to_large = 0\n",
    "\n",
    "# Do I have a problem when R = 0?\n",
    "# This has to be optimized\n",
    "# BAD Inspiration from https://www.cryptool.org/assets/ctp/documents/Kleptografie_kes_4-2010.pdf\n",
    "while True:\n",
    "    # Schritt 1\n",
    "    P = genPrime()\n",
    "    vP = pow(P, a_E ,a_N)\n",
    "\n",
    "    # Schritt 2\n",
    "    t = genPrime()\n",
    "    tempN = concatenateInBinary(vP, t)\n",
    "    \n",
    "    # Schritt 3\n",
    "    # This is wrong, search for Q first. len(Q) ~ len(P). Q not max\n",
    "    Q = int(genPrimeWithLimit(int(tempN/P)))\n",
    "    R = tempN - P*Q\n",
    "\n",
    "    if (R <= pow(2,MAX_PRIME) and R > 0):\n",
    "        break\n",
    "    r_to_large += 1\n",
    "\n",
    "print(\"Amount of failed attempts\",r_to_large)\n",
    "\n",
    "Attacker[\"vP\"] = vP\n",
    "Attacker[\"R\"] = R\n",
    "\n",
    "print(R, Q)\n",
    "\n",
    "print(vP, t)\n",
    "\n",
    "print(tempN)\n",
    "\n",
    "Attacker[\"vP\"] = vP\n",
    "Attacker[\"R\"] = R\n",
    "\n",
    "print(\"tempN = P * Q + R\")\n",
    "print(tempN, \"=\", P, \"*\", Q, \"+\", R)"
   ]
  },
  {
   "cell_type": "markdown",
   "metadata": {},
   "source": [
    "## Schritt 4"
   ]
  },
  {
   "cell_type": "code",
   "execution_count": 158,
   "metadata": {},
   "outputs": [
    {
     "name": "stdout",
     "output_type": "stream",
     "text": [
      "vP||t: 11111 110001101\n",
      "N':    1111100110001101\n",
      "N : 1111011100111101\n",
      "N': 1111100110001101\n",
      "63293\n"
     ]
    }
   ],
   "source": [
    "N = calcN(P, Q)\n",
    "\n",
    "print(\"vP||t:\", toBinary(vP), toBinary(t))\n",
    "print(\"N':   \",toBinary(tempN))\n",
    "\n",
    "print(\"N :\",toBinary(N))\n",
    "print(\"N':\",toBinary(tempN))\n",
    "\n",
    "print(N)"
   ]
  },
  {
   "cell_type": "markdown",
   "metadata": {},
   "source": [
    "## Schritt 5"
   ]
  },
  {
   "cell_type": "code",
   "execution_count": 159,
   "metadata": {},
   "outputs": [
    {
     "name": "stdout",
     "output_type": "stream",
     "text": [
      "167 379\n",
      "17\n",
      "62748 17 59057\n"
     ]
    }
   ],
   "source": [
    "PhiN = calcPhiN(P, Q)\n",
    "E = fermatPrime()\n",
    "\n",
    "print(P, Q)\n",
    "print(E)\n",
    "\n",
    "D = mmi(E, PhiN)\n",
    "\n",
    "print(PhiN, E, D)"
   ]
  },
  {
   "cell_type": "code",
   "execution_count": 160,
   "metadata": {},
   "outputs": [
    {
     "name": "stdout",
     "output_type": "stream",
     "text": [
      "{'P': 167, 'Q': 379, 'PhiN': 62748, 'N': 63293, 'E': 17, 'D': 59057}\n"
     ]
    }
   ],
   "source": [
    "User = {\n",
    "    \"P\" : P,\n",
    "    \"Q\" : Q,\n",
    "    \"PhiN\" : PhiN,\n",
    "    \"N\" : N,\n",
    "    \"E\" : E,\n",
    "    \"D\" : D\n",
    "}\n",
    "\n",
    "print(User)"
   ]
  },
  {
   "cell_type": "markdown",
   "metadata": {},
   "source": [
    "## Schritt 6"
   ]
  },
  {
   "cell_type": "code",
   "execution_count": 161,
   "metadata": {},
   "outputs": [],
   "source": [
    "cipher = pow(msg, User[\"E\"], User[\"N\"])\n",
    "signature = pow(msg, User[\"D\"], User[\"N\"])"
   ]
  },
  {
   "cell_type": "markdown",
   "metadata": {},
   "source": [
    "# Angriff"
   ]
  },
  {
   "cell_type": "markdown",
   "metadata": {},
   "source": [
    "## Schritt 1"
   ]
  },
  {
   "cell_type": "code",
   "execution_count": 176,
   "metadata": {},
   "outputs": [
    {
     "name": "stdout",
     "output_type": "stream",
     "text": [
      "{'N': 63293, 'E': 17}\n"
     ]
    }
   ],
   "source": [
    "# Read the public key of user\n",
    "pub_User = {\n",
    "    \"N\" : N,\n",
    "    \"E\" : E\n",
    "}\n",
    "\n",
    "print(pub_User)\n",
    "\n",
    "collection_User = {\n",
    "    \"N\" : User[\"N\"],\n",
    "    \"E\" : User[\"E\"]\n",
    "}"
   ]
  },
  {
   "cell_type": "markdown",
   "metadata": {},
   "source": [
    "## Schritt 2"
   ]
  },
  {
   "cell_type": "code",
   "execution_count": 177,
   "metadata": {},
   "outputs": [
    {
     "name": "stdout",
     "output_type": "stream",
     "text": [
      "Known vP: 11111\n",
      "1111011100111101\n",
      "11110\n",
      "1001010000\n",
      "592\n"
     ]
    }
   ],
   "source": [
    "exp_vP = splitInBinary(User[\"N\"])[0]\n",
    "\n",
    "print(\"Known vP:\",toBinary(Attacker[\"vP\"]))\n",
    "print(toBinary(User[\"N\"]))\n",
    "print(toBinary(exp_vP))\n",
    "\n",
    "print(toBinary(Attacker[\"R\"]))\n",
    "print(Attacker[\"R\"])\n",
    "\n",
    "\n"
   ]
  },
  {
   "cell_type": "markdown",
   "metadata": {},
   "source": [
    "## Schritt 3"
   ]
  },
  {
   "cell_type": "code",
   "execution_count": 178,
   "metadata": {},
   "outputs": [
    {
     "name": "stdout",
     "output_type": "stream",
     "text": [
      "251 167\n",
      "Actual value of P: 167\n"
     ]
    }
   ],
   "source": [
    "exp_P = pow(exp_vP, Attacker[\"D\"], Attacker[\"N\"])\n",
    "\n",
    "exp_alt_P = pow(exp_vP+1, Attacker[\"D\"], Attacker[\"N\"])\n",
    "\n",
    "print(exp_P, exp_alt_P)\n",
    "print(\"Actual value of P:\", P)"
   ]
  },
  {
   "cell_type": "markdown",
   "metadata": {},
   "source": [
    "# Schritt 4"
   ]
  },
  {
   "cell_type": "code",
   "execution_count": 179,
   "metadata": {},
   "outputs": [
    {
     "name": "stdout",
     "output_type": "stream",
     "text": [
      "252 379\n",
      "Actual value of Q: 379\n"
     ]
    }
   ],
   "source": [
    "# Potential to optimize when N/P not hole Number\n",
    "exp_Q = int(pub_User[\"N\"]/exp_P)\n",
    "\n",
    "exp_alt_Q = int(pub_User[\"N\"]/exp_alt_P)\n",
    "\n",
    "print(exp_Q, exp_alt_Q)\n",
    "print(\"Actual value of Q:\", User[\"Q\"])"
   ]
  },
  {
   "cell_type": "markdown",
   "metadata": {},
   "source": [
    "## Schritt 5"
   ]
  },
  {
   "cell_type": "code",
   "execution_count": 180,
   "metadata": {},
   "outputs": [
    {
     "name": "stdout",
     "output_type": "stream",
     "text": [
      "62750 62748\n",
      "Actual value of PhiN: 62748\n",
      "40603 59057\n",
      "Actual value of D: 59057\n"
     ]
    }
   ],
   "source": [
    "exp_PhiN = int(calcPhiN(exp_P, exp_Q))\n",
    "\n",
    "exp_alt_PhiN = int(calcPhiN(exp_alt_P, exp_alt_Q))\n",
    "\n",
    "print(exp_PhiN, exp_alt_PhiN)\n",
    "print(\"Actual value of PhiN:\", User[\"PhiN\"])\n",
    "\n",
    "exp_D = mmi(pub_User[\"E\"], exp_PhiN)\n",
    "\n",
    "exp_alt_D = mmi(pub_User[\"E\"], exp_alt_PhiN)\n",
    "\n",
    "print(exp_D, exp_alt_D)\n",
    "print(\"Actual value of D:\", User[\"D\"])"
   ]
  },
  {
   "cell_type": "markdown",
   "metadata": {},
   "source": [
    "## Schritt 6"
   ]
  },
  {
   "cell_type": "code",
   "execution_count": 181,
   "metadata": {},
   "outputs": [
    {
     "name": "stdout",
     "output_type": "stream",
     "text": [
      "D' is the right privat Key: 59057\n"
     ]
    }
   ],
   "source": [
    "mal_signature = pow(msg, exp_D, User[\"N\"])\n",
    "alt_mal_signature = pow(msg, exp_alt_D, User[\"N\"])\n",
    "\n",
    "if(signature == mal_signature):\n",
    "    print(\"D is the right privat Key:\",exp_D)\n",
    "elif(signature == alt_mal_signature):\n",
    "    print(\"D' is the right privat Key:\",exp_alt_D)\n"
   ]
  }
 ],
 "metadata": {
  "interpreter": {
   "hash": "3758460f21197c8ccb9ff5aa273a08373d5a6b6c33118830d2be09d2cc1bf35f"
  },
  "kernelspec": {
   "display_name": "Python 3.9.10 64-bit (windows store)",
   "language": "python",
   "name": "python3"
  },
  "language_info": {
   "codemirror_mode": {
    "name": "ipython",
    "version": 3
   },
   "file_extension": ".py",
   "mimetype": "text/x-python",
   "name": "python",
   "nbconvert_exporter": "python",
   "pygments_lexer": "ipython3",
   "version": "3.9.0"
  },
  "orig_nbformat": 4
 },
 "nbformat": 4,
 "nbformat_minor": 2
}
