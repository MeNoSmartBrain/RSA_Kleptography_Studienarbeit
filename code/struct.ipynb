{
 "cells": [
  {
   "cell_type": "markdown",
   "metadata": {},
   "source": [
    "# TODO\n",
    "- vP is not allow to be 0\n",
    "- add everything to dictionaries\n",
    "- attacker only works with dict\n",
    "- optimise\n",
    "- try catch when non invertible prime\n",
    "- t must not be prime --> optimise\n",
    "- when there is no R large/ small en\n",
    "- when delta of bounds is small then the possibility of a new generation of p is high \n",
    "- when p is smaller than there is is higher chance of success\n",
    "\n"
   ]
  },
  {
   "cell_type": "markdown",
   "metadata": {},
   "source": [
    "### Import"
   ]
  },
  {
   "cell_type": "code",
   "execution_count": 882,
   "metadata": {},
   "outputs": [],
   "source": [
    "import sympy\n",
    "import random\n",
    "import coloredlogs, logging\n",
    "coloredlogs.install(fmt='%(levelname)s %(message)s')"
   ]
  },
  {
   "cell_type": "code",
   "execution_count": 883,
   "metadata": {},
   "outputs": [],
   "source": [
    "logger = logging.getLogger()\n",
    "logger.setLevel(logging.NOTSET)"
   ]
  },
  {
   "cell_type": "code",
   "execution_count": 884,
   "metadata": {},
   "outputs": [],
   "source": [
    "MIN_PRIME = 0\n",
    "MAX_PRIME = 10\n",
    "OPT_RANGE_REDUCTION = 0\n",
    "\n",
    "MAX_ITERS = 10\n",
    "\n",
    "\n",
    "\n",
    "msg = 12345678900987654321"
   ]
  },
  {
   "cell_type": "code",
   "execution_count": 885,
   "metadata": {},
   "outputs": [],
   "source": [
    "def genPrime():\n",
    "    return sympy.randprime(pow(2,MIN_PRIME), pow(2,MAX_PRIME))\n",
    "\n",
    "def genSlightlySmallerPrime():\n",
    "    return sympy.randprime(pow(2,MIN_PRIME), pow(2,MAX_PRIME-OPT_RANGE_REDUCTION))\n",
    "\n",
    "def genPrimeWithLimit(lb, ub):\n",
    "    return sympy.randprime(lb, ub)\n",
    "\n",
    "def genSmallPrime():\n",
    "    return sympy.randprime(pow(2,MIN_PRIME/2), pow(2,MAX_PRIME/2))\n",
    "\n",
    "def fermatPrime():\n",
    "    i = random.randint(0,4)\n",
    "    return pow(2, pow(2, i)) + 1\n",
    "\n",
    "def mmi(E, phiN):\n",
    "    return pow(E, -1, phiN)\n",
    "\n",
    "def calcN(P, Q):\n",
    "    return P*Q\n",
    "\n",
    "def calcPhiN(P, Q):\n",
    "    return (P-1) * (Q-1)\n",
    "\n",
    "def toBinary(dec):\n",
    "    return \"{0:b}\".format(dec)\n",
    "\n",
    "def toDecimal(bin):\n",
    "    return int(bin, 2)\n",
    "\n",
    "def concatenateInBinary(prev, tail):\n",
    "    prev = toBinary(prev)\n",
    "    tail = toBinary(tail)\n",
    "\n",
    "    prev = \"0\"*(MAX_PRIME-len(prev)) + prev\n",
    "    tail = \"0\"*(MAX_PRIME-len(tail)) + tail\n",
    "\n",
    "    return toDecimal(prev + tail)\n",
    "\n",
    "def splitInBinary(bin):\n",
    "    bin = toBinary(bin)\n",
    "    bin = \"0\"*(MAX_PRIME*2-len(bin)) + bin\n",
    "    prev = bin[:len(bin)//2]\n",
    "    tail = bin[len(bin)//2:]\n",
    "    return(toDecimal(prev), toDecimal(tail))\n",
    "\n"
   ]
  },
  {
   "cell_type": "markdown",
   "metadata": {},
   "source": [
    "# Voraussetzungen"
   ]
  },
  {
   "cell_type": "code",
   "execution_count": 886,
   "metadata": {},
   "outputs": [
    {
     "name": "stdout",
     "output_type": "stream",
     "text": [
      "{'P': 2, 'Q': 5, 'PhiN': 4, 'N': 10, 'E': 3, 'D': 3}\n"
     ]
    }
   ],
   "source": [
    "def createAttackerKey():\n",
    "    a_P = genSmallPrime()\n",
    "    a_Q= genSmallPrime()\n",
    "\n",
    "\n",
    "    a_PhiN = calcPhiN(a_P, a_Q)\n",
    "    a_N = calcN(a_P, a_Q)\n",
    "\n",
    "    a_E = fermatPrime()\n",
    "    a_D = mmi(a_E, a_PhiN)\n",
    "\n",
    "    return {\n",
    "        \"P\" : a_P,\n",
    "        \"Q\" : a_Q,\n",
    "        \"PhiN\" : a_PhiN,\n",
    "        \"N\" : a_N,\n",
    "        \"E\" : a_E,\n",
    "        \"D\" : a_D\n",
    "    }\n",
    "\n",
    "Attacker = {}\n",
    "\n",
    "created = False\n",
    "while not created:\n",
    "    try:\n",
    "        Attacker = createAttackerKey()\n",
    "        created = True\n",
    "    except ValueError:\n",
    "            print(\"Trying to generate Key failed. Trying again ...\")\n",
    "\n",
    "print(Attacker)"
   ]
  },
  {
   "cell_type": "markdown",
   "metadata": {},
   "source": [
    "# Generierung und Verschlüsselung"
   ]
  },
  {
   "cell_type": "markdown",
   "metadata": {},
   "source": [
    "## Schritt 1, 2 und 3"
   ]
  },
  {
   "cell_type": "code",
   "execution_count": 887,
   "metadata": {},
   "outputs": [
    {
     "name": "stderr",
     "output_type": "stream",
     "text": [
      "\u001b[1;30mINFO\u001b[0m Bounds: [2, 4] \t P: 431 \t deltaB: 2\n",
      "\u001b[1;30mINFO\u001b[0m Amount of failed attempts: 0\n",
      "\u001b[1;30mINFO\u001b[0m tempN = P * Q + R\n",
      "\u001b[1;30mINFO\u001b[0m 1931 = 431 * 3 + 638\n"
     ]
    }
   ],
   "source": [
    "r_too_large = 0\n",
    "bounds_too_close = 0\n",
    "\n",
    "# Do I have a problem when R = 0?\n",
    "# This has to be optimized\n",
    "# BAD Inspiration from https://www.cryptool.org/assets/ctp/documents/Kleptografie_kes_4-2010.pdf\n",
    "User = {}\n",
    "\n",
    "valid = False\n",
    "while not valid:\n",
    "    # Schritt 1\n",
    "    P = genSlightlySmallerPrime()\n",
    "    vP = pow(P, Attacker[\"E\"] ,Attacker[\"N\"])\n",
    "\n",
    "    # Schritt 2\n",
    "    t = genPrime() \n",
    "    tempN = concatenateInBinary(vP, t)\n",
    "    \n",
    "    # Schritt 3\n",
    "    # This is wrong, search for Q first. len(Q) ~ len(P). Q not max\n",
    "    ub = int(int(tempN)//int(P)) \n",
    "    lb = int((tempN - pow(2, MAX_PRIME) + 1) // P) \n",
    "    logger.info(\"Bounds: [{0}, {1}] \\t P: {2} \\t deltaB: {3}\".format(lb,ub,P, ub-lb))\n",
    "    R = 0\n",
    "    Q = 0\n",
    "    try:\n",
    "        for i in range(MAX_ITERS):\n",
    "            Q = int(genPrimeWithLimit(lb, ub))\n",
    "            R = tempN - P*Q\n",
    "\n",
    "            if (R < pow(2,MAX_PRIME+1) and R >= 0):\n",
    "                valid = True\n",
    "                break\n",
    "            r_too_large += 1\n",
    "    except ValueError:\n",
    "        pass\n",
    "    User[\"P\"] = P\n",
    "    User[\"Q\"] = Q\n",
    "\n",
    "Attacker[\"vP\"] = vP\n",
    "Attacker[\"R\"] = R\n",
    "\n",
    "logger.info(\"Amount of failed attempts: {0}\".format(r_too_large))\n",
    "\n",
    "logger.info(\"tempN = P * Q + R\")\n",
    "logger.info(\"{0} = {1} * {2} + {3}\".format(tempN, P, Q, R))"
   ]
  },
  {
   "cell_type": "markdown",
   "metadata": {},
   "source": [
    "## Schritt 4"
   ]
  },
  {
   "cell_type": "code",
   "execution_count": 888,
   "metadata": {},
   "outputs": [],
   "source": [
    "User[\"N\"] = calcN(User[\"P\"], User[\"Q\"])"
   ]
  },
  {
   "cell_type": "markdown",
   "metadata": {},
   "source": [
    "## Schritt 5"
   ]
  },
  {
   "cell_type": "code",
   "execution_count": 889,
   "metadata": {},
   "outputs": [
    {
     "name": "stderr",
     "output_type": "stream",
     "text": [
      "\u001b[1;30mINFO\u001b[0m User Key successfully generated!\n"
     ]
    }
   ],
   "source": [
    "def createUserKey():\n",
    "    PhiN = calcPhiN(P, Q)\n",
    "    E = fermatPrime()\n",
    "    D = mmi(E, PhiN)\n",
    "\n",
    "    return  {\n",
    "        \"PhiN\" : PhiN,\n",
    "        \"E\" : E,\n",
    "        \"D\" : D\n",
    "    }\n",
    "\n",
    "created = False\n",
    "while not created:\n",
    "    try:\n",
    "        User.update(createUserKey())\n",
    "        created = True\n",
    "    except ValueError:\n",
    "            logger.info(\"Trying to generate Key failed. Trying again ...\")\n",
    "logger.info(\"User Key successfully generated!\")"
   ]
  },
  {
   "cell_type": "markdown",
   "metadata": {},
   "source": [
    "## Schritt 6"
   ]
  },
  {
   "cell_type": "code",
   "execution_count": 890,
   "metadata": {},
   "outputs": [],
   "source": [
    "cipher = pow(msg, User[\"E\"], User[\"N\"])\n",
    "signature = pow(msg, User[\"D\"], User[\"N\"])"
   ]
  },
  {
   "cell_type": "markdown",
   "metadata": {},
   "source": [
    "# Angriff"
   ]
  },
  {
   "cell_type": "markdown",
   "metadata": {},
   "source": [
    "## Schritt 1"
   ]
  },
  {
   "cell_type": "code",
   "execution_count": 891,
   "metadata": {},
   "outputs": [],
   "source": [
    "pub_User = {\n",
    "    \"N\" : User[\"N\"],\n",
    "    \"E\" : User[\"E\"]\n",
    "}\n",
    "\n",
    "collection_User = {\n",
    "    \"N\" : pub_User[\"N\"],\n",
    "    \"E\" : pub_User[\"E\"]\n",
    "}"
   ]
  },
  {
   "cell_type": "markdown",
   "metadata": {},
   "source": [
    "## Schritt 2"
   ]
  },
  {
   "cell_type": "code",
   "execution_count": 892,
   "metadata": {},
   "outputs": [],
   "source": [
    "collection_User[\"vP\"] = splitInBinary(User[\"N\"])[0]\n",
    "collection_User[\"vP'\"] = collection_User[\"vP\"]+1"
   ]
  },
  {
   "cell_type": "markdown",
   "metadata": {},
   "source": [
    "### Validation test for vP"
   ]
  },
  {
   "cell_type": "code",
   "execution_count": 893,
   "metadata": {},
   "outputs": [
    {
     "name": "stderr",
     "output_type": "stream",
     "text": [
      "\u001b[1;30mINFO\u001b[0m Success!!!\n",
      "\u001b[1;30mINFO\u001b[0m The variable vP or vP' is in the expected state: 1!\n",
      "\u001b[1;30mINFO\u001b[0m Current vP: 1 \t Current vP': 2\n"
     ]
    }
   ],
   "source": [
    "testVar = \"vP\"\n",
    "altTestVar = \"vP'\"\n",
    "\n",
    "if(collection_User[testVar] == Attacker[testVar] or collection_User[altTestVar] == Attacker[testVar]):\n",
    "    logger.info(\"Success!!!\")\n",
    "    logger.info(\"The variable {0} or {1} is in the expected state: {2}!\".format(testVar, altTestVar, Attacker[testVar]))\n",
    "    logger.info(\"Current {0}: {1} \\t Current {2}: {3}\".format(testVar, collection_User[testVar], altTestVar, collection_User[altTestVar]))\n",
    "else:\n",
    "    logger.error(\"Error!!!\")\n",
    "    logger.error(\"The variable {0} doesn't have the expected value.\".format(testVar))\n",
    "    logger.error(\"Expected: {0} \\t Current: {1}\".format(Attacker[testVar], collection_User[testVar]))"
   ]
  },
  {
   "cell_type": "markdown",
   "metadata": {},
   "source": [
    "## Schritt 3"
   ]
  },
  {
   "cell_type": "code",
   "execution_count": 899,
   "metadata": {},
   "outputs": [
    {
     "name": "stdout",
     "output_type": "stream",
     "text": [
      "{'N': 1293, 'E': 3, 'vP': 1, \"vP'\": 2, 'P': 1, \"P'\": 8, 'Q': 1293, \"Q'\": 161, 'PhiN': 0, \"PhiN'\": 25600} {'P': 2, 'Q': 5, 'PhiN': 4, 'N': 10, 'E': 3, 'D': 3, 'vP': 1, 'R': 638}\n"
     ]
    }
   ],
   "source": [
    "collection_User[\"P\"] = pow(collection_User[\"vP\"], Attacker[\"D\"], Attacker[\"N\"])\n",
    "collection_User[\"P'\"] = pow(collection_User[\"vP'\"], Attacker[\"D\"], Attacker[\"N\"])\n",
    "\n",
    "print(collection_User, Attacker)"
   ]
  },
  {
   "cell_type": "markdown",
   "metadata": {},
   "source": [
    "### Validation test for P and P'"
   ]
  },
  {
   "cell_type": "code",
   "execution_count": 895,
   "metadata": {},
   "outputs": [
    {
     "name": "stderr",
     "output_type": "stream",
     "text": [
      "\u001b[1;30mERROR\u001b[0m \u001b[31mError!!!\u001b[0m\n",
      "\u001b[1;30mERROR\u001b[0m \u001b[31mThe variable P or P' doesn't have the expected value.\u001b[0m\n",
      "\u001b[1;30mERROR\u001b[0m \u001b[31mExpected: 431 \t Current: 1 or 8\u001b[0m\n"
     ]
    }
   ],
   "source": [
    "testVar = \"P\"\n",
    "altTestVar = \"P'\"\n",
    "\n",
    "if(collection_User[testVar] == User[testVar] or collection_User[altTestVar] == User[testVar]):\n",
    "    logger.info(\"Success!!!\")\n",
    "    logger.info(\"The variables {0} or {1} are in the expected state: {2}!\".format(testVar, altTestVar, User[\"P\"]))\n",
    "    logger.info(\"Current {0}: {1} \\t Current {2}: {3}\".format(testVar, collection_User[testVar], altTestVar, collection_User[altTestVar]))\n",
    "else:\n",
    "    logger.error(\"Error!!!\")\n",
    "    logger.error(\"The variable {0} or {1} doesn't have the expected value.\".format(testVar, altTestVar))\n",
    "    logger.error(\"Expected: {0} \\t Current: {1} or {2}\".format(User[testVar], collection_User[testVar], collection_User[altTestVar]))"
   ]
  },
  {
   "cell_type": "markdown",
   "metadata": {},
   "source": [
    "# Schritt 4"
   ]
  },
  {
   "cell_type": "code",
   "execution_count": 896,
   "metadata": {},
   "outputs": [],
   "source": [
    "# Potential to optimize when N/P not hole Number\n",
    "collection_User[\"Q\"] = int(pub_User[\"N\"]//collection_User[\"P\"])\n",
    "collection_User[\"Q'\"] = int(pub_User[\"N\"]//collection_User[\"P'\"])"
   ]
  },
  {
   "cell_type": "markdown",
   "metadata": {},
   "source": [
    "### Validation test for Q and Q'"
   ]
  },
  {
   "cell_type": "code",
   "execution_count": 897,
   "metadata": {},
   "outputs": [
    {
     "name": "stderr",
     "output_type": "stream",
     "text": [
      "\u001b[1;30mERROR\u001b[0m \u001b[31mError!!!\u001b[0m\n",
      "\u001b[1;30mERROR\u001b[0m \u001b[31mThe variable Q doesn't have the expected value.\u001b[0m\n",
      "\u001b[1;30mERROR\u001b[0m \u001b[31mExpected: 5 \t Current: 1293 or 161\u001b[0m\n"
     ]
    }
   ],
   "source": [
    "testVar = \"Q\"\n",
    "altTestVar = \"Q'\"\n",
    "\n",
    "if(collection_User[testVar] == User[testVar] or collection_User[altTestVar] == User[testVar]):\n",
    "    logger.info(\"Success!!!\")\n",
    "    logger.info(\"The variables {0} or {1} are in the expected state!\".format(testVar, altTestVar))\n",
    "    logger.info(\"Current {0}: {1} \\t Current {2}: {3}\".format(testVar, collection_User[testVar], altTestVar, collection_User[altTestVar]))\n",
    "else:\n",
    "    logger.error(\"Error!!!\")\n",
    "    logger.error(\"The variable {0} doesn't have the expected value.\".format(testVar))\n",
    "    logger.error(\"Expected: {0} \\t Current: {1} or {2}\".format(Attacker[testVar], collection_User[testVar], collection_User[altTestVar]))"
   ]
  },
  {
   "cell_type": "markdown",
   "metadata": {},
   "source": [
    "## Schritt 5"
   ]
  },
  {
   "cell_type": "code",
   "execution_count": 898,
   "metadata": {},
   "outputs": [
    {
     "ename": "ValueError",
     "evalue": "pow() 3rd argument cannot be 0",
     "output_type": "error",
     "traceback": [
      "\u001b[1;31m---------------------------------------------------------------------------\u001b[0m",
      "\u001b[1;31mValueError\u001b[0m                                Traceback (most recent call last)",
      "Input \u001b[1;32mIn [898]\u001b[0m, in \u001b[0;36m<module>\u001b[1;34m\u001b[0m\n\u001b[0;32m      1\u001b[0m collection_User[\u001b[38;5;124m\"\u001b[39m\u001b[38;5;124mPhiN\u001b[39m\u001b[38;5;124m\"\u001b[39m] \u001b[38;5;241m=\u001b[39m \u001b[38;5;28mint\u001b[39m(calcPhiN(collection_User[\u001b[38;5;124m\"\u001b[39m\u001b[38;5;124mP\u001b[39m\u001b[38;5;124m\"\u001b[39m], collection_User[\u001b[38;5;124m\"\u001b[39m\u001b[38;5;124mQ\u001b[39m\u001b[38;5;124m\"\u001b[39m]))\n\u001b[0;32m      2\u001b[0m collection_User[\u001b[38;5;124m\"\u001b[39m\u001b[38;5;124mPhiN\u001b[39m\u001b[38;5;124m'\u001b[39m\u001b[38;5;124m\"\u001b[39m] \u001b[38;5;241m=\u001b[39m \u001b[38;5;28mint\u001b[39m(calcPhiN(collection_User[\u001b[38;5;124m\"\u001b[39m\u001b[38;5;124mQ\u001b[39m\u001b[38;5;124m'\u001b[39m\u001b[38;5;124m\"\u001b[39m], collection_User[\u001b[38;5;124m\"\u001b[39m\u001b[38;5;124mQ\u001b[39m\u001b[38;5;124m'\u001b[39m\u001b[38;5;124m\"\u001b[39m]))\n\u001b[1;32m----> 4\u001b[0m collection_User[\u001b[38;5;124m\"\u001b[39m\u001b[38;5;124mD\u001b[39m\u001b[38;5;124m\"\u001b[39m] \u001b[38;5;241m=\u001b[39m \u001b[43mmmi\u001b[49m\u001b[43m(\u001b[49m\u001b[43mpub_User\u001b[49m\u001b[43m[\u001b[49m\u001b[38;5;124;43m\"\u001b[39;49m\u001b[38;5;124;43mE\u001b[39;49m\u001b[38;5;124;43m\"\u001b[39;49m\u001b[43m]\u001b[49m\u001b[43m,\u001b[49m\u001b[43m \u001b[49m\u001b[43mcollection_User\u001b[49m\u001b[43m[\u001b[49m\u001b[38;5;124;43m\"\u001b[39;49m\u001b[38;5;124;43mPhiN\u001b[39;49m\u001b[38;5;124;43m\"\u001b[39;49m\u001b[43m]\u001b[49m\u001b[43m)\u001b[49m\n\u001b[0;32m      5\u001b[0m collection_User[\u001b[38;5;124m\"\u001b[39m\u001b[38;5;124mD\u001b[39m\u001b[38;5;124m'\u001b[39m\u001b[38;5;124m\"\u001b[39m] \u001b[38;5;241m=\u001b[39m mmi(pub_User[\u001b[38;5;124m\"\u001b[39m\u001b[38;5;124mE\u001b[39m\u001b[38;5;124m\"\u001b[39m], collection_User[\u001b[38;5;124m\"\u001b[39m\u001b[38;5;124mPhiN\u001b[39m\u001b[38;5;124m'\u001b[39m\u001b[38;5;124m\"\u001b[39m])\n",
      "Input \u001b[1;32mIn [885]\u001b[0m, in \u001b[0;36mmmi\u001b[1;34m(E, phiN)\u001b[0m\n\u001b[0;32m     17\u001b[0m \u001b[38;5;28;01mdef\u001b[39;00m \u001b[38;5;21mmmi\u001b[39m(E, phiN):\n\u001b[1;32m---> 18\u001b[0m     \u001b[38;5;28;01mreturn\u001b[39;00m \u001b[38;5;28;43mpow\u001b[39;49m\u001b[43m(\u001b[49m\u001b[43mE\u001b[49m\u001b[43m,\u001b[49m\u001b[43m \u001b[49m\u001b[38;5;241;43m-\u001b[39;49m\u001b[38;5;241;43m1\u001b[39;49m\u001b[43m,\u001b[49m\u001b[43m \u001b[49m\u001b[43mphiN\u001b[49m\u001b[43m)\u001b[49m\n",
      "\u001b[1;31mValueError\u001b[0m: pow() 3rd argument cannot be 0"
     ]
    }
   ],
   "source": [
    "collection_User[\"PhiN\"] = int(calcPhiN(collection_User[\"P\"], collection_User[\"Q\"]))\n",
    "collection_User[\"PhiN'\"] = int(calcPhiN(collection_User[\"Q'\"], collection_User[\"Q'\"]))\n",
    "\n",
    "collection_User[\"D\"] = mmi(pub_User[\"E\"], collection_User[\"PhiN\"])\n",
    "collection_User[\"D'\"] = mmi(pub_User[\"E\"], collection_User[\"PhiN'\"])"
   ]
  },
  {
   "cell_type": "markdown",
   "metadata": {},
   "source": [
    "### Validation test for PhiN and PhiN'"
   ]
  },
  {
   "cell_type": "code",
   "execution_count": null,
   "metadata": {},
   "outputs": [
    {
     "name": "stderr",
     "output_type": "stream",
     "text": [
      "\u001b[1;30mERROR\u001b[0m \u001b[31mError!!!\u001b[0m\n",
      "\u001b[1;30mERROR\u001b[0m \u001b[31mThe variable PhiN doesn't have the expected value.\u001b[0m\n",
      "\u001b[1;30mERROR\u001b[0m \u001b[31mExpected: 280 \t Current: 227136 or 828100\u001b[0m\n"
     ]
    }
   ],
   "source": [
    "testVar = \"PhiN\"\n",
    "altTestVar = \"PhiN'\"\n",
    "\n",
    "if(collection_User[testVar] == User[testVar] or collection_User[altTestVar] == User[testVar]):\n",
    "    logger.info(\"Success!!!\")\n",
    "    logger.info(\"The variables {0} or {1} are in the expected state!\".format(testVar, altTestVar))\n",
    "    logger.info(\"Current {0}: {1} \\t Current {2}: {3}\".format(testVar, collection_User[testVar], altTestVar, collection_User[altTestVar]))\n",
    "else:\n",
    "    logger.error(\"Error!!!\")\n",
    "    logger.error(\"The variable {0} doesn't have the expected value.\".format(testVar))\n",
    "    logger.error(\"Expected: {0} \\t Current: {1} or {2}\".format(Attacker[testVar], collection_User[testVar], collection_User[altTestVar]))"
   ]
  },
  {
   "cell_type": "markdown",
   "metadata": {},
   "source": [
    "### Validation test for D and D'"
   ]
  },
  {
   "cell_type": "code",
   "execution_count": null,
   "metadata": {},
   "outputs": [
    {
     "name": "stderr",
     "output_type": "stream",
     "text": [
      "\u001b[1;30mERROR\u001b[0m \u001b[31mError!!!\u001b[0m\n",
      "\u001b[1;30mERROR\u001b[0m \u001b[31mThe variable D doesn't have the expected value.\u001b[0m\n",
      "\u001b[1;30mERROR\u001b[0m \u001b[31mExpected: 73 \t Current: 152897 or 521993\u001b[0m\n"
     ]
    }
   ],
   "source": [
    "testVar = \"D\"\n",
    "altTestVar = \"D'\"\n",
    "\n",
    "if(collection_User[testVar] == User[testVar] or collection_User[altTestVar] == User[testVar]):\n",
    "    logger.info(\"Success!!!\")\n",
    "    logger.info(\"The variables {0} or {1} are in the expected state!\".format(testVar, altTestVar))\n",
    "    logger.info(\"Current {0}: {1} \\t Current {2}: {3}\".format(testVar, collection_User[testVar], altTestVar, collection_User[altTestVar]))\n",
    "else:\n",
    "    logger.error(\"Error!!!\")\n",
    "    logger.error(\"The variable {0} doesn't have the expected value.\".format(testVar))\n",
    "    logger.error(\"Expected: {0} \\t Current: {1} or {2}\".format(Attacker[testVar], collection_User[testVar], collection_User[altTestVar]))"
   ]
  },
  {
   "cell_type": "markdown",
   "metadata": {},
   "source": [
    "## Schritt 6"
   ]
  },
  {
   "cell_type": "code",
   "execution_count": null,
   "metadata": {},
   "outputs": [],
   "source": [
    "collection_User[\"Sig\"] = pow(msg, collection_User[\"D\"], User[\"N\"])\n",
    "collection_User[\"Sig'\"] = pow(msg, collection_User[\"D'\"], User[\"N\"])"
   ]
  },
  {
   "cell_type": "markdown",
   "metadata": {},
   "source": [
    "### Validation test for signature and signature'"
   ]
  },
  {
   "cell_type": "code",
   "execution_count": null,
   "metadata": {},
   "outputs": [
    {
     "name": "stderr",
     "output_type": "stream",
     "text": [
      "\u001b[1;30mERROR\u001b[0m \u001b[31mMessage was incorrectly signed!\u001b[0m\n"
     ]
    }
   ],
   "source": [
    "testVar = \"Sig\"\n",
    "altTestVar = \"Sig'\"\n",
    "\n",
    "if(collection_User[testVar] == signature):\n",
    "    collection_User[\"correct_key\"] = \"D\"\n",
    "    logger.info(\"D is the right privat Key: {0}\".format(collection_User[testVar]))\n",
    "elif(collection_User[altTestVar] == signature):\n",
    "    collection_User[\"correct_key\"] = \"D'\"\n",
    "    logger.info(\"D' is the right privat Key: {0}\".format(collection_User[altTestVar]))\n",
    "else:\n",
    "    logger.error(\"Message was incorrectly signed!\")"
   ]
  },
  {
   "cell_type": "markdown",
   "metadata": {},
   "source": [
    "# Result"
   ]
  },
  {
   "cell_type": "code",
   "execution_count": null,
   "metadata": {},
   "outputs": [],
   "source": [
    "def sortDic(dict):\n",
    "    return {key: dict[key] for key in sorted(dict)}"
   ]
  },
  {
   "cell_type": "code",
   "execution_count": null,
   "metadata": {},
   "outputs": [
    {
     "name": "stdout",
     "output_type": "stream",
     "text": [
      "{'D': 73, 'E': 257, 'N': 319, 'P': 11, 'PhiN': 280, 'Q': 29, 'R': 978, 'vP': 224}\n",
      "{'D': 12393, 'E': 257, 'N': 228661, 'P': 251, 'PhiN': 227500, 'Q': 911}\n",
      "{'D': 152897, \"D'\": 521993, 'E': 257, 'N': 228661, 'P': 170, \"P'\": 251, 'PhiN': 227136, \"PhiN'\": 828100, 'Q': 1345, \"Q'\": 911, 'Sig': 226561, \"Sig'\": 44560, 'vP': 223, \"vP'\": 224}\n"
     ]
    }
   ],
   "source": [
    "print(sortDic(Attacker))\n",
    "print(sortDic(User))\n",
    "print(sortDic(collection_User))\n",
    "\n"
   ]
  }
 ],
 "metadata": {
  "interpreter": {
   "hash": "3758460f21197c8ccb9ff5aa273a08373d5a6b6c33118830d2be09d2cc1bf35f"
  },
  "kernelspec": {
   "display_name": "Python 3.9.10 64-bit (windows store)",
   "language": "python",
   "name": "python3"
  },
  "language_info": {
   "codemirror_mode": {
    "name": "ipython",
    "version": 3
   },
   "file_extension": ".py",
   "mimetype": "text/x-python",
   "name": "python",
   "nbconvert_exporter": "python",
   "pygments_lexer": "ipython3",
   "version": "3.9.0"
  },
  "orig_nbformat": 4
 },
 "nbformat": 4,
 "nbformat_minor": 2
}
