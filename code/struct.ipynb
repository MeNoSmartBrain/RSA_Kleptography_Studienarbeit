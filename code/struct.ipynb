{
 "cells": [
  {
   "cell_type": "code",
   "execution_count": 117,
   "metadata": {},
   "outputs": [],
   "source": [
    "MIN_PRIME = 100\n",
    "MAX_PRIME = 1050\n",
    "\n",
    "msg = 12345678900987654321"
   ]
  },
  {
   "cell_type": "code",
   "execution_count": 118,
   "metadata": {},
   "outputs": [],
   "source": [
    "import sympy\n",
    "import random\n",
    "\n",
    "def genPrime():\n",
    "    return sympy.randprime(MIN_PRIME, MAX_PRIME)\n",
    "\n",
    "def fermatPrime():\n",
    "    i = random.randint(0,4)\n",
    "    return pow(2, pow(2, i)) + 1\n",
    "\n",
    "def mmi(E, phiN):\n",
    "    return pow(E, -1, phiN)\n",
    "\n",
    "def calcN(P, Q):\n",
    "    return P*Q\n",
    "\n",
    "def calcPhiN(P, Q):\n",
    "    return (P-1) * (Q-1)\n",
    "\n",
    "def toBinary(dec):\n",
    "    return \"{0:b}\".format(dec)\n",
    "\n",
    "def toDecimal(bin):\n",
    "    return int(bin, 2)\n",
    "\n",
    "def concatenateInBinary(prev, tail):\n",
    "    prev = toBinary(prev)\n",
    "    tail = toBinary(tail)\n",
    "\n",
    "    while len(prev) < len(tail):\n",
    "        prev = \"0\" + prev\n",
    "\n",
    "    while len(tail) < len(prev):\n",
    "        tail = \"0\" + tail\n",
    "\n",
    "    return toDecimal(prev + tail)\n",
    "\n",
    "def splitInBinary(bin):\n",
    "    bin = toBinary(bin)\n",
    "    prev = bin[:len(bin)//2]\n",
    "    tail = bin[len(bin)//2:]\n",
    "    return(toDecimal(prev), toDecimal(tail))\n",
    "\n"
   ]
  },
  {
   "cell_type": "markdown",
   "metadata": {},
   "source": [
    "# Voraussetzungen"
   ]
  },
  {
   "cell_type": "code",
   "execution_count": 119,
   "metadata": {},
   "outputs": [
    {
     "name": "stdout",
     "output_type": "stream",
     "text": [
      "{'P': 907, 'Q': 353, 'PhiN': 318912, 'N': 320171, 'E': 65537, 'D': 280961}\n"
     ]
    }
   ],
   "source": [
    "a_P = genPrime()\n",
    "a_Q= genPrime()\n",
    "\n",
    "\n",
    "a_PhiN = calcPhiN(a_P, a_Q)\n",
    "a_N = calcN(a_P, a_Q)\n",
    "\n",
    "a_E = fermatPrime()\n",
    "a_D = mmi(a_E, a_PhiN)\n",
    "\n",
    "Attacker = {\n",
    "    \"P\" : a_P,\n",
    "    \"Q\" : a_Q,\n",
    "    \"PhiN\" : a_PhiN,\n",
    "    \"N\" : a_N,\n",
    "    \"E\" : a_E,\n",
    "    \"D\" : a_D\n",
    "}\n",
    "\n",
    "print(Attacker)"
   ]
  },
  {
   "cell_type": "markdown",
   "metadata": {},
   "source": [
    "# Generierung und Verschlüsselung"
   ]
  },
  {
   "cell_type": "markdown",
   "metadata": {},
   "source": [
    "## Schritt 1"
   ]
  },
  {
   "cell_type": "code",
   "execution_count": 120,
   "metadata": {},
   "outputs": [
    {
     "name": "stdout",
     "output_type": "stream",
     "text": [
      "877 39825\n"
     ]
    }
   ],
   "source": [
    "P = genPrime()\n",
    "\n",
    "vP = pow(P, a_E ,a_N)\n",
    "\n",
    "Attacker[\"vP\"] = vP\n",
    "\n",
    "print(P, vP)"
   ]
  },
  {
   "cell_type": "markdown",
   "metadata": {},
   "source": [
    "## Schritt 2 und 3"
   ]
  },
  {
   "cell_type": "code",
   "execution_count": 129,
   "metadata": {},
   "outputs": [
    {
     "name": "stdout",
     "output_type": "stream",
     "text": [
      "20 2976023\n",
      "39825 991\n",
      "1001101110010001 1111011111\n",
      "2609972191\n",
      "10011011100100010000001111011111\n"
     ]
    }
   ],
   "source": [
    "Q = 4\n",
    "R = 1\n",
    "\n",
    "# Do I have a problem when R = 0?\n",
    "# This has to be optimized\n",
    "# BAD Inspiration from https://www.cryptool.org/assets/ctp/documents/Kleptografie_kes_4-2010.pdf\n",
    "while(not sympy.isprime(Q) and not R == 0):\n",
    "    t = genPrime()\n",
    "\n",
    "    tempN = concatenateInBinary(vP, t)\n",
    "\n",
    "    # This is wrong, search for Q first. len(Q) ~ len(P). Q not max\n",
    "    R = tempN % P\n",
    "    Q = int((tempN - R) / P)\n",
    "\n",
    "    Attacker[\"R\"] = R\n",
    "\n",
    "print(R, Q)\n",
    "\n",
    "print(vP, t)\n",
    "print(toBinary(vP), toBinary(t))\n",
    "print(tempN)\n",
    "print(toBinary(tempN))"
   ]
  },
  {
   "cell_type": "markdown",
   "metadata": {},
   "source": [
    "## Schritt 4"
   ]
  },
  {
   "cell_type": "code",
   "execution_count": 130,
   "metadata": {},
   "outputs": [
    {
     "name": "stdout",
     "output_type": "stream",
     "text": [
      "2609972171\n"
     ]
    }
   ],
   "source": [
    "N = calcN(P, Q)\n",
    "\n",
    "print(N)"
   ]
  },
  {
   "cell_type": "markdown",
   "metadata": {},
   "source": [
    "## Schritt 5"
   ]
  },
  {
   "cell_type": "code",
   "execution_count": 131,
   "metadata": {},
   "outputs": [
    {
     "name": "stdout",
     "output_type": "stream",
     "text": [
      "877 2976023\n",
      "17\n",
      "2606995272 17 2453642609\n"
     ]
    }
   ],
   "source": [
    "PhiN = calcPhiN(P, Q)\n",
    "E = fermatPrime()\n",
    "\n",
    "print(P, Q)\n",
    "print(E)\n",
    "\n",
    "D = mmi(E, PhiN)\n",
    "\n",
    "print(PhiN, E, D)"
   ]
  },
  {
   "cell_type": "code",
   "execution_count": 132,
   "metadata": {},
   "outputs": [
    {
     "name": "stdout",
     "output_type": "stream",
     "text": [
      "{'P': 877, 'Q': 2976023, 'PhiN': 2606995272, 'N': 2609972171, 'E': 17, 'D': 2453642609}\n"
     ]
    }
   ],
   "source": [
    "User = {\n",
    "    \"P\" : P,\n",
    "    \"Q\" : Q,\n",
    "    \"PhiN\" : PhiN,\n",
    "    \"N\" : N,\n",
    "    \"E\" : E,\n",
    "    \"D\" : D\n",
    "}\n",
    "\n",
    "pub_User = {\n",
    "    \"P\" : P,\n",
    "    \"Q\" : Q,\n",
    "    \"PhiN\" : PhiN,\n",
    "    \"N\" : N,\n",
    "    \"E\" : E,\n",
    "    \"D\" : D\n",
    "}\n",
    "\n",
    "print(User)"
   ]
  },
  {
   "cell_type": "markdown",
   "metadata": {},
   "source": [
    "## Schritt 6"
   ]
  },
  {
   "cell_type": "code",
   "execution_count": 133,
   "metadata": {},
   "outputs": [],
   "source": [
    "cipher = pow(msg, User[\"E\"], User[\"N\"])\n",
    "signature = pow(msg, User[\"D\"], User[\"N\"])"
   ]
  },
  {
   "cell_type": "markdown",
   "metadata": {},
   "source": [
    "# Angriff"
   ]
  },
  {
   "cell_type": "markdown",
   "metadata": {},
   "source": [
    "## Schritt 1"
   ]
  },
  {
   "cell_type": "code",
   "execution_count": 134,
   "metadata": {},
   "outputs": [],
   "source": [
    "# Read the public key of user"
   ]
  },
  {
   "cell_type": "markdown",
   "metadata": {},
   "source": [
    "## Schritt 2"
   ]
  },
  {
   "cell_type": "code",
   "execution_count": 135,
   "metadata": {},
   "outputs": [
    {
     "name": "stdout",
     "output_type": "stream",
     "text": [
      "10011011100100010000001111001011\n",
      "1001101110010001\n",
      "1001101110010001\n",
      "10100\n",
      "20\n"
     ]
    }
   ],
   "source": [
    "exp_vP = splitInBinary(User[\"N\"])[0]\n",
    "\n",
    "print(toBinary(User[\"N\"]))\n",
    "print(toBinary(Attacker[\"vP\"]))\n",
    "print(toBinary(exp_vP))\n",
    "\n",
    "print(toBinary(Attacker[\"R\"]))\n",
    "print(Attacker[\"R\"])\n",
    "\n",
    "\n"
   ]
  },
  {
   "cell_type": "markdown",
   "metadata": {},
   "source": [
    "## Schritt 3"
   ]
  },
  {
   "cell_type": "code",
   "execution_count": 136,
   "metadata": {},
   "outputs": [
    {
     "name": "stdout",
     "output_type": "stream",
     "text": [
      "877 105143 877\n"
     ]
    }
   ],
   "source": [
    "exp_P = pow(exp_vP, Attacker[\"D\"], Attacker[\"N\"])\n",
    "\n",
    "exp_alt_P = pow(exp_vP+1, Attacker[\"D\"], Attacker[\"N\"])\n",
    "\n",
    "print(exp_P, exp_alt_P, P)"
   ]
  },
  {
   "cell_type": "markdown",
   "metadata": {},
   "source": []
  },
  {
   "cell_type": "code",
   "execution_count": 137,
   "metadata": {},
   "outputs": [
    {
     "name": "stdout",
     "output_type": "stream",
     "text": [
      "123\n",
      "{'P': 907, 'Q': 353, 'PhiN': 318912, 'N': 320171, 'E': 65537, 'D': 280961, 'vP': 39825, 'R': 20}\n"
     ]
    }
   ],
   "source": [
    "\n"
   ]
  }
 ],
 "metadata": {
  "interpreter": {
   "hash": "3758460f21197c8ccb9ff5aa273a08373d5a6b6c33118830d2be09d2cc1bf35f"
  },
  "kernelspec": {
   "display_name": "Python 3.9.10 64-bit (windows store)",
   "language": "python",
   "name": "python3"
  },
  "language_info": {
   "codemirror_mode": {
    "name": "ipython",
    "version": 3
   },
   "file_extension": ".py",
   "mimetype": "text/x-python",
   "name": "python",
   "nbconvert_exporter": "python",
   "pygments_lexer": "ipython3",
   "version": "3.9.0"
  },
  "orig_nbformat": 4
 },
 "nbformat": 4,
 "nbformat_minor": 2
}
