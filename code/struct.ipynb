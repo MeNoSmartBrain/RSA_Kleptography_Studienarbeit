{
 "cells": [
  {
   "cell_type": "markdown",
   "metadata": {},
   "source": [
    "# TODO\n",
    "- vP is not allow to be 0 or 1\n",
    "- DONE add everything to dictionaries\n",
    "- DONE attacker only works with dict\n",
    "- optimise\n",
    "- Max it is dependent on deltaB\n",
    "- DONE t must not be prime --> optimise\n",
    "- DONE try catch when non invertible prime\n",
    "- DONE when there is no R large/ small en\n",
    "- DONE when delta of bounds is small then the possibility of a new generation of p is high \n",
    "- DONE when p is smaller than there is is higher chance of success\n",
    "- Problem when m>=n \n",
    "- Use secret module instead of the random module for cryptographic purposes\n",
    "- DONE camelCase to snake_case if required\n",
    "- gen_prime() is not used\n",
    "- Check if N/P is not a hole number"
   ]
  },
  {
   "cell_type": "markdown",
   "metadata": {},
   "source": [
    "### Import and Configuration"
   ]
  },
  {
   "cell_type": "code",
   "execution_count": 26,
   "metadata": {},
   "outputs": [],
   "source": [
    "import sympy\n",
    "import random\n",
    "import coloredlogs, logging"
   ]
  },
  {
   "cell_type": "code",
   "execution_count": 27,
   "metadata": {},
   "outputs": [],
   "source": [
    "coloredlogs.install(fmt='%(levelname)s %(message)s')\n",
    "logger = logging.getLogger()\n",
    "logger.setLevel(logging.NOTSET)"
   ]
  },
  {
   "cell_type": "code",
   "execution_count": 28,
   "metadata": {},
   "outputs": [],
   "source": [
    "MIN_PRIME = 0\n",
    "MAX_PRIME = 1024\n",
    "OPT_RANGE_REDUCTION = 10\n",
    "\n",
    "MAX_ITERS = 10\n",
    "\n",
    "msg = 12345678900987654321"
   ]
  },
  {
   "cell_type": "code",
   "execution_count": 29,
   "metadata": {},
   "outputs": [],
   "source": [
    "def gen_prime():\n",
    "    return sympy.randprime(pow(2,MIN_PRIME), pow(2,MAX_PRIME))\n",
    "\n",
    "def gen_prime_with_optimized_bit_limit():\n",
    "    return sympy.randprime(pow(2,MIN_PRIME), pow(2,MAX_PRIME-OPT_RANGE_REDUCTION))\n",
    "\n",
    "def gen_prime_with_boundaries(lb, ub):\n",
    "    return sympy.randprime(lb, ub)\n",
    "\n",
    "def gen_prime_half_size():\n",
    "    return sympy.randprime(pow(2,MIN_PRIME/2), pow(2,MAX_PRIME/2))\n",
    "\n",
    "def gen_random_number_with_bit_limit():\n",
    "    return random.randint(0, pow(2, MAX_PRIME))\n",
    "\n",
    "def fermat_prime():\n",
    "    i = random.randint(0,4)\n",
    "    return pow(2, pow(2, i)) + 1\n",
    "\n",
    "def modular_multiplicative_inverse(E, phiN):\n",
    "    return pow(E, -1, phiN)\n",
    "\n",
    "def calc_n(P, Q):\n",
    "    return P*Q\n",
    "\n",
    "def calc_phi_n(P, Q):\n",
    "    return (P-1) * (Q-1)\n",
    "\n",
    "def to_binary(dec):\n",
    "    return \"{0:b}\".format(dec)\n",
    "\n",
    "def to_decimal(bin):\n",
    "    return int(bin, 2)\n",
    "\n",
    "def concatenate_in_binary(prev, tail):\n",
    "    prev = to_binary(prev)\n",
    "    tail = to_binary(tail)\n",
    "\n",
    "    prev = \"0\"*(MAX_PRIME-len(prev)) + prev\n",
    "    tail = \"0\"*(MAX_PRIME-len(tail)) + tail\n",
    "\n",
    "    return to_decimal(prev + tail)\n",
    "\n",
    "def split_in_binary(bin):\n",
    "    bin = to_binary(bin)\n",
    "    bin = \"0\"*(MAX_PRIME*2-len(bin)) + bin\n",
    "    prev = bin[:len(bin)//2]\n",
    "    tail = bin[len(bin)//2:]\n",
    "    return(to_decimal(prev), to_decimal(tail))\n"
   ]
  },
  {
   "cell_type": "markdown",
   "metadata": {},
   "source": [
    "# Voraussetzungen"
   ]
  },
  {
   "cell_type": "code",
   "execution_count": 30,
   "metadata": {},
   "outputs": [
    {
     "name": "stderr",
     "output_type": "stream",
     "text": [
      "\u001b[1;30mERROR\u001b[0m \u001b[31mTrying to generate Key failed. Trying again ...\u001b[0m\n",
      "\u001b[1;30mINFO\u001b[0m Attacker Key successfully generated!\n"
     ]
    }
   ],
   "source": [
    "def create_attacker_key():\n",
    "    a_P = gen_prime_half_size()\n",
    "    a_Q= gen_prime_half_size()\n",
    "\n",
    "\n",
    "    a_PhiN = calc_phi_n(a_P, a_Q)\n",
    "    a_N = calc_n(a_P, a_Q)\n",
    "\n",
    "    a_E = fermat_prime()\n",
    "    a_D = modular_multiplicative_inverse(a_E, a_PhiN)\n",
    "\n",
    "    return {\n",
    "        \"P\" : a_P,\n",
    "        \"Q\" : a_Q,\n",
    "        \"PhiN\" : a_PhiN,\n",
    "        \"N\" : a_N,\n",
    "        \"E\" : a_E,\n",
    "        \"D\" : a_D\n",
    "    }\n",
    "\n",
    "attacker = {}\n",
    "\n",
    "created = False\n",
    "while not created:\n",
    "    try:\n",
    "        attacker = create_attacker_key()\n",
    "        created = True\n",
    "    except ValueError:\n",
    "            logger.error(\"Trying to generate Key failed. Trying again ...\")\n",
    "logger.info(\"Attacker Key successfully generated!\")"
   ]
  },
  {
   "cell_type": "markdown",
   "metadata": {},
   "source": [
    "# Generierung und Verschlüsselung"
   ]
  },
  {
   "cell_type": "markdown",
   "metadata": {},
   "source": [
    "## Schritt 1, 2 und 3"
   ]
  },
  {
   "cell_type": "code",
   "execution_count": 31,
   "metadata": {},
   "outputs": [
    {
     "name": "stderr",
     "output_type": "stream",
     "text": [
      "\u001b[1;30mINFO\u001b[0m Bounds: [104628508878367140489121283185997026671845897010392893577780257813426245859012354027393435094580421056109878532579025489411511302802294375580328384331560248310946337854156337442357401966742782532646799867406255963137928143108571126106484685786890892950451389159873115636548078836645547238369688640425199356207266, 104628508878367140489121283185997026671845897010392893577780257813426245859012354027393435094580421056109878532579025489411511302802294375580328384331560248310946337854156337442357401966742782532646799867406255963137928143108571126106484685786890892950451389159873115636548078836645547238369688640425199356211342] \t P: 44101604698226363752744081825648087219208423112788645662266832456875120218136578139196798229919413050332615161719098447938536802454871176102606869168667088796043372146312407349382789005815777646388152247710547501366387901732127527075052950074356919014746727310524146700941628247556676831913094887272153083 \t deltaB: 4076\n",
      "\u001b[1;30mINFO\u001b[0m Amount of failed attempts: 0\n",
      "\u001b[1;30mINFO\u001b[0m tempN = P * Q + R\n",
      "\u001b[1;30mINFO\u001b[0m 4614285138718615095477581869903036012414228642630669623048665881765277662230462263843223064925330581822863659207181106173749123661333918480476733972393070074788057583693393938968801111902589777075442113555371286993309399390512700591229054698979545987004352289462498707431329818001813469878181543548144112177343440257513103029639860835433065692567495021741644800920735447975227594251901689139317570689211692368421515982727614529438937020102371082221620568674890042300158823472464402262953718118529676994525020224605067602203001945217843279098893399563326219333040575576177500862744042212743319230441808921197698876233 = 44101604698226363752744081825648087219208423112788645662266832456875120218136578139196798229919413050332615161719098447938536802454871176102606869168667088796043372146312407349382789005815777646388152247710547501366387901732127527075052950074356919014746727310524146700941628247556676831913094887272153083 * 104628508878367140489121283185997026671845897010392893577780257813426245859012354027393435094580421056109878532579025489411511302802294375580328384331560248310946337854156337442357401966742782532646799867406255963137928143108571126106484685786890892950451389159873115636548078836645547238369688640425199356210139 + 53086230795324952569131476868042658789093447837883924853449232672005463293976272850678282734822625775712681980251488320594005607238247570442629913174807558724289378957952603382023234426239450521007229163632992643584477731102709940881377180469073007939410461928560406456691849359432275287966754779700174167696\n"
     ]
    }
   ],
   "source": [
    "r_too_large = 0\n",
    "bounds_too_close = 0\n",
    "\n",
    "# Do I have a problem when R = 0?\n",
    "# This has to be optimized\n",
    "# BAD Inspiration from https://www.cryptool.org/assets/ctp/documents/Kleptografie_kes_4-2010.pdf\n",
    "user = {}\n",
    "\n",
    "valid = False\n",
    "while not valid:\n",
    "    # Schritt 1\n",
    "    P = gen_prime_with_optimized_bit_limit()\n",
    "    vP = pow(P, attacker[\"E\"] ,attacker[\"N\"])\n",
    "\n",
    "    # Schritt 2\n",
    "    t = gen_random_number_with_bit_limit() \n",
    "    tempN = concatenate_in_binary(vP, t)\n",
    "    \n",
    "    # Schritt 3\n",
    "    # This is wrong, search for Q first. len(Q) ~ len(P). Q not max\n",
    "    ub = int(int(tempN)//int(P)) \n",
    "    lb = int((tempN - pow(2, MAX_PRIME) + 1) // P) \n",
    "    logger.info(\"Bounds: [{0}, {1}] \\t P: {2} \\t deltaB: {3}\".format(lb,ub,P, ub-lb))\n",
    "    R = 0\n",
    "    Q = 0\n",
    "    try:\n",
    "        for i in range(MAX_ITERS):\n",
    "            Q = int(gen_prime_with_boundaries(lb, ub))\n",
    "            R = tempN - P*Q\n",
    "\n",
    "            if (R < pow(2,MAX_PRIME+1) and R >= 0):\n",
    "                valid = True\n",
    "                break\n",
    "            r_too_large += 1\n",
    "    except ValueError:\n",
    "        pass\n",
    "    user[\"P\"] = P\n",
    "    user[\"Q\"] = Q\n",
    "\n",
    "attacker[\"vP\"] = vP\n",
    "attacker[\"R\"] = R\n",
    "\n",
    "logger.info(\"Amount of failed attempts: {0}\".format(r_too_large))\n",
    "\n",
    "logger.info(\"tempN = P * Q + R\")\n",
    "logger.info(\"{0} = {1} * {2} + {3}\".format(tempN, P, Q, R))"
   ]
  },
  {
   "cell_type": "markdown",
   "metadata": {},
   "source": [
    "## Schritt 4"
   ]
  },
  {
   "cell_type": "code",
   "execution_count": 32,
   "metadata": {},
   "outputs": [],
   "source": [
    "user[\"N\"] = calc_n(user[\"P\"], user[\"Q\"])"
   ]
  },
  {
   "cell_type": "markdown",
   "metadata": {},
   "source": [
    "## Schritt 5"
   ]
  },
  {
   "cell_type": "code",
   "execution_count": 33,
   "metadata": {},
   "outputs": [
    {
     "name": "stderr",
     "output_type": "stream",
     "text": [
      "\u001b[1;30mINFO\u001b[0m Trying to generate Key failed. Trying again ...\n",
      "\u001b[1;30mINFO\u001b[0m Trying to generate Key failed. Trying again ...\n",
      "\u001b[1;30mINFO\u001b[0m Trying to generate Key failed. Trying again ...\n",
      "\u001b[1;30mINFO\u001b[0m Trying to generate Key failed. Trying again ...\n",
      "\u001b[1;30mINFO\u001b[0m User Key successfully generated!\n"
     ]
    }
   ],
   "source": [
    "def create_user_key():\n",
    "    PhiN = calc_phi_n(P, Q)\n",
    "    E = fermat_prime()\n",
    "    D = modular_multiplicative_inverse(E, PhiN)\n",
    "\n",
    "    return  {\n",
    "        \"PhiN\" : PhiN,\n",
    "        \"E\" : E,\n",
    "        \"D\" : D\n",
    "    }\n",
    "\n",
    "created = False\n",
    "while not created:\n",
    "    try:\n",
    "        user.update(create_user_key())\n",
    "        created = True\n",
    "    except ValueError:\n",
    "            logger.info(\"Trying to generate Key failed. Trying again ...\")\n",
    "logger.info(\"User Key successfully generated!\")"
   ]
  },
  {
   "cell_type": "markdown",
   "metadata": {},
   "source": [
    "## Schritt 6"
   ]
  },
  {
   "cell_type": "code",
   "execution_count": 34,
   "metadata": {},
   "outputs": [],
   "source": [
    "cipher = pow(msg, user[\"E\"], user[\"N\"])\n",
    "signature = pow(msg, user[\"D\"], user[\"N\"])"
   ]
  },
  {
   "cell_type": "markdown",
   "metadata": {},
   "source": [
    "# Angriff"
   ]
  },
  {
   "cell_type": "code",
   "execution_count": 35,
   "metadata": {},
   "outputs": [],
   "source": [
    "class Calc_Secret_Result():\n",
    "    was_successfull = True\n",
    "    key_parameter = {}"
   ]
  },
  {
   "cell_type": "code",
   "execution_count": 36,
   "metadata": {},
   "outputs": [],
   "source": [
    "def calc_secrets(vP):\n",
    "    calc_secret_result = Calc_Secret_Result()\n",
    "\n",
    "    P = pow(vP, attacker[\"D\"], attacker[\"N\"])\n",
    "    # Potential to optimize when N/P not hole Number\n",
    "    Q =  int(pub_user[\"N\"]//P)\n",
    "    PhiN =  int(calc_phi_n(P, Q))\n",
    "    try:\n",
    "        D = modular_multiplicative_inverse(pub_user[\"E\"], PhiN)\n",
    "        calc_secret_result.key_parameter = {\n",
    "        \"P\" : P,\n",
    "        \"Q\" : Q,\n",
    "        \"PhiN\" : PhiN,\n",
    "        \"D\" : D, \n",
    "    }\n",
    "    except ValueError:\n",
    "        calc_secret_result.was_successfull = False\n",
    "        logger.info(\"Trying to generate Key failed. Trying again ...\")\n",
    "    \n",
    "    return calc_secret_result"
   ]
  },
  {
   "cell_type": "code",
   "execution_count": 37,
   "metadata": {},
   "outputs": [],
   "source": [
    "def validate_through_signature(key_parameter):\n",
    "    key_parameter[\"Sig\"] = pow(msg, key_parameter[\"D\"], collection_user[\"N\"])\n",
    "    if (key_parameter[\"Sig\"] == signature):\n",
    "        collection_user.update(key_parameter)\n",
    "        return True\n",
    "    return False\n",
    "    "
   ]
  },
  {
   "cell_type": "markdown",
   "metadata": {},
   "source": [
    "## Schritt 1"
   ]
  },
  {
   "cell_type": "code",
   "execution_count": 38,
   "metadata": {},
   "outputs": [],
   "source": [
    "pub_user = {\n",
    "    \"N\" : user[\"N\"],\n",
    "    \"E\" : user[\"E\"]\n",
    "}\n",
    "\n",
    "collection_user = {\n",
    "    \"N\" : pub_user[\"N\"],\n",
    "    \"E\" : pub_user[\"E\"]\n",
    "}"
   ]
  },
  {
   "cell_type": "markdown",
   "metadata": {},
   "source": [
    "## Schritt 2"
   ]
  },
  {
   "cell_type": "code",
   "execution_count": 39,
   "metadata": {},
   "outputs": [],
   "source": [
    "collection_user[\"vP\"] = split_in_binary(user[\"N\"])[0]\n",
    "collection_user[\"vP'\"] = collection_user[\"vP\"]+1"
   ]
  },
  {
   "cell_type": "code",
   "execution_count": 40,
   "metadata": {},
   "outputs": [
    {
     "name": "stderr",
     "output_type": "stream",
     "text": [
      "\u001b[1;30mINFO\u001b[0m Both key parameters of D were successfully calculated.\n",
      "\u001b[1;30mINFO\u001b[0m D is the right privat Key: 3985829317606840703268098741734909618975264319208459923866030246007814421418873296281927780162166250630546631847318760419337345920499480584986624149886996505849012433746841086393377782716900527488561476577858674153199542379057852711751651976195600620570111348684888144504554867126976552836927771515388045356752021286560788153237525225140464322161457638232950402754281982254379778959672749239686993929369807491208230681997099651366675324870534620675342629767725787481370524290492906380533392800405447582830900046237067068625407207843612553583350134655351455096492955233662296844970667893876655419822088815153153989421\n"
     ]
    }
   ],
   "source": [
    "secrets_for_vP = calc_secrets(collection_user[\"vP\"])\n",
    "secrets_for_vP_plus_one = calc_secrets(collection_user[\"vP'\"])\n",
    "\n",
    "if(secrets_for_vP.was_successfull and secrets_for_vP_plus_one.was_successfull):\n",
    "    logger.info(\"Both key parameters of D were successfully calculated.\")\n",
    "    if(validate_through_signature(secrets_for_vP.key_parameter)):\n",
    "        logger.info(\"D is the right privat Key: {0}\".format(collection_user[\"D\"]))\n",
    "    elif(validate_through_signature(secrets_for_vP_plus_one.key_parameter)):\n",
    "        logger.info(\"D' is the right privat Key: {0}\".format(collection_user[\"D\"]))\n",
    "elif(not secrets_for_vP.was_successfull and not secrets_for_vP_plus_one.was_successfull):\n",
    "    logger.error(\"Both key parameters calculated with errors!\")\n",
    "elif(not secrets_for_vP_plus_one.was_successfull):\n",
    "    logger.info(\"Second key parameters calculated with error! First key parameters must be correct!\")\n",
    "    if(validate_through_signature(secrets_for_vP.key_parameter)):\n",
    "        logger.info(\"D is the right privat Key: {0}\".format(collection_user[\"D\"]))\n",
    "elif(not secrets_for_vP.was_successfull):\n",
    "    logger.info(\"First key parameters calculated with error! Second key parameters must be correct!\")\n",
    "    if(validate_through_signature(secrets_for_vP_plus_one.key_parameter)):\n",
    "        logger.info(\"D' is the right privat Key: {0}\".format(collection_user[\"D\"]))\n",
    "else:\n",
    "    logger.error(\"Logical programming error!\")\n"
   ]
  },
  {
   "cell_type": "markdown",
   "metadata": {},
   "source": [
    "# Result"
   ]
  },
  {
   "cell_type": "code",
   "execution_count": 41,
   "metadata": {},
   "outputs": [],
   "source": [
    "def sort_dic(dict):\n",
    "    return {key: dict[key] for key in sorted(dict)}"
   ]
  },
  {
   "cell_type": "code",
   "execution_count": 42,
   "metadata": {},
   "outputs": [],
   "source": [
    "# logger.info(sort_dic(attacker))\n",
    "# logger.info(sort_dic(user))\n",
    "# logger.info(sort_dic(collection_user))"
   ]
  },
  {
   "cell_type": "markdown",
   "metadata": {},
   "source": [
    "# Validation Tests"
   ]
  },
  {
   "cell_type": "markdown",
   "metadata": {},
   "source": [
    "### Validation test for vP"
   ]
  },
  {
   "cell_type": "code",
   "execution_count": 43,
   "metadata": {},
   "outputs": [
    {
     "name": "stderr",
     "output_type": "stream",
     "text": [
      "\u001b[1;30mINFO\u001b[0m Success!!!\n",
      "\u001b[1;30mINFO\u001b[0m The variable vP or vP' is in the expected state: 25667813094652664678105323386650046670211406592660962528437406172636076011248471485001769944541616199674190471574125877658757228825525038339219578297298337148394877067643262530241967941063138844259374529552129558875144289285805926925204330258124047915025106848187160633054620199920295006390262685982430646847\n",
      "\u001b[1;30mINFO\u001b[0m Current vP: 25667813094652664678105323386650046670211406592660962528437406172636076011248471485001769944541616199674190471574125877658757228825525038339219578297298337148394877067643262530241967941063138844259374529552129558875144289285805926925204330258124047915025106848187160633054620199920295006390262685982430646847 \t Current vP': 25667813094652664678105323386650046670211406592660962528437406172636076011248471485001769944541616199674190471574125877658757228825525038339219578297298337148394877067643262530241967941063138844259374529552129558875144289285805926925204330258124047915025106848187160633054620199920295006390262685982430646848\n"
     ]
    }
   ],
   "source": [
    "testVar = \"vP\"\n",
    "altTestVar = \"vP'\"\n",
    "\n",
    "if(collection_user[testVar] == attacker[testVar] or collection_user[altTestVar] == attacker[testVar]):\n",
    "    logger.info(\"Success!!!\")\n",
    "    logger.info(\"The variable {0} or {1} is in the expected state: {2}\".format(testVar, altTestVar, attacker[testVar]))\n",
    "    logger.info(\"Current {0}: {1} \\t Current {2}: {3}\".format(testVar, collection_user[testVar], altTestVar, collection_user[altTestVar]))\n",
    "else:\n",
    "    logger.error(\"Error!!!\")\n",
    "    logger.error(\"The variable {0} doesn't have the expected value.\".format(testVar))\n",
    "    logger.error(\"Expected: {0} \\t Current: {1}\".format(attacker[testVar], collection_user[testVar]))"
   ]
  },
  {
   "cell_type": "markdown",
   "metadata": {},
   "source": [
    "### Validation test for P and P'"
   ]
  },
  {
   "cell_type": "code",
   "execution_count": 44,
   "metadata": {},
   "outputs": [
    {
     "name": "stderr",
     "output_type": "stream",
     "text": [
      "\u001b[1;30mINFO\u001b[0m Success!!!\n",
      "\u001b[1;30mINFO\u001b[0m The variables P are in the expected state:\n",
      "\u001b[1;30mINFO\u001b[0m Current P: 44101604698226363752744081825648087219208423112788645662266832456875120218136578139196798229919413050332615161719098447938536802454871176102606869168667088796043372146312407349382789005815777646388152247710547501366387901732127527075052950074356919014746727310524146700941628247556676831913094887272153083\n"
     ]
    }
   ],
   "source": [
    "testVar = \"P\"\n",
    "\n",
    "if(collection_user[testVar] == user[testVar]):\n",
    "    logger.info(\"Success!!!\")\n",
    "    logger.info(\"The variables {0} are in the expected state:\".format(testVar))\n",
    "    logger.info(\"Current {0}: {1}\".format(testVar, collection_user[testVar]))\n",
    "else:\n",
    "    logger.error(\"Error!!!\")\n",
    "    logger.error(\"The variable {0} doesn't have the expected value.\".format(testVar))\n",
    "    logger.error(\"Expected: {0} \\t Current: {1}\".format(user[testVar], collection_user[testVar]))"
   ]
  },
  {
   "cell_type": "markdown",
   "metadata": {},
   "source": [
    "### Validation test for Q and Q'"
   ]
  },
  {
   "cell_type": "code",
   "execution_count": 45,
   "metadata": {},
   "outputs": [
    {
     "name": "stderr",
     "output_type": "stream",
     "text": [
      "\u001b[1;30mINFO\u001b[0m Success!!!\n",
      "\u001b[1;30mINFO\u001b[0m The variables Q are in the expected state!\n",
      "\u001b[1;30mINFO\u001b[0m Current Q: 104628508878367140489121283185997026671845897010392893577780257813426245859012354027393435094580421056109878532579025489411511302802294375580328384331560248310946337854156337442357401966742782532646799867406255963137928143108571126106484685786890892950451389159873115636548078836645547238369688640425199356210139\n"
     ]
    }
   ],
   "source": [
    "testVar = \"Q\"\n",
    "\n",
    "if(collection_user[testVar] == user[testVar]):\n",
    "    logger.info(\"Success!!!\")\n",
    "    logger.info(\"The variables {0} are in the expected state!\".format(testVar))\n",
    "    logger.info(\"Current {0}: {1}\".format(testVar, collection_user[testVar]))\n",
    "else:\n",
    "    logger.error(\"Error!!!\")\n",
    "    logger.error(\"The variable {0} doesn't have the expected value.\".format(testVar))\n",
    "    logger.error(\"Expected: {0} \\t Current: {1}\".format(user[testVar], attacker[testVar]))"
   ]
  },
  {
   "cell_type": "markdown",
   "metadata": {},
   "source": [
    "### Validation test for PhiN and PhiN'"
   ]
  },
  {
   "cell_type": "code",
   "execution_count": 46,
   "metadata": {},
   "outputs": [
    {
     "name": "stderr",
     "output_type": "stream",
     "text": [
      "\u001b[1;30mINFO\u001b[0m Success!!!\n",
      "\u001b[1;30mINFO\u001b[0m The variables PhiN are in the expected state:\n",
      "\u001b[1;30mINFO\u001b[0m Current PhiN: 4614285138718615095477581869903036012414228642630669623048665881765277662230462263843223064925330581822863659207181106173749123661333918480476733972393070074788057583693393938968801111902589777075442113555371286993309399390512700591229054698979545987004352289462498707431329818001813469878181543548144112072661801046745939361585693428486170713845285355087754509641366135044519396825353252317064996575738091069779968808288917698885690073767293060274503717070665505540735546986028044116179134160501878049071535502468401273189014717642275104205755379253285904023226207047190933711272414579516248895954500621410896345316\n"
     ]
    }
   ],
   "source": [
    "testVar = \"PhiN\"\n",
    "\n",
    "if(collection_user[testVar] == user[testVar]):\n",
    "    logger.info(\"Success!!!\")\n",
    "    logger.info(\"The variables {0} are in the expected state:\".format(testVar))\n",
    "    logger.info(\"Current {0}: {1}\".format(testVar, collection_user[testVar]))\n",
    "else:\n",
    "    logger.error(\"Error!!!\")\n",
    "    logger.error(\"The variable {0} doesn't have the expected value.\".format(testVar))\n",
    "    logger.error(\"Expected: {0} \\t Current: {1}\".format(user[testVar], collection_user[testVar]))"
   ]
  },
  {
   "cell_type": "markdown",
   "metadata": {},
   "source": [
    "### Validation test for D and D'"
   ]
  },
  {
   "cell_type": "code",
   "execution_count": 47,
   "metadata": {},
   "outputs": [
    {
     "name": "stderr",
     "output_type": "stream",
     "text": [
      "\u001b[1;30mINFO\u001b[0m Success!!!\n",
      "\u001b[1;30mINFO\u001b[0m The variables D are in the expected state:\n",
      "\u001b[1;30mINFO\u001b[0m Current D: 3985829317606840703268098741734909618975264319208459923866030246007814421418873296281927780162166250630546631847318760419337345920499480584986624149886996505849012433746841086393377782716900527488561476577858674153199542379057852711751651976195600620570111348684888144504554867126976552836927771515388045356752021286560788153237525225140464322161457638232950402754281982254379778959672749239686993929369807491208230681997099651366675324870534620675342629767725787481370524290492906380533392800405447582830900046237067068625407207843612553583350134655351455096492955233662296844970667893876655419822088815153153989421\n"
     ]
    }
   ],
   "source": [
    "testVar = \"D\"\n",
    "altTestVar = \"D'\"\n",
    "\n",
    "if(collection_user[testVar] == user[testVar]):\n",
    "    logger.info(\"Success!!!\")\n",
    "    logger.info(\"The variables {0} are in the expected state:\".format(testVar))\n",
    "    logger.info(\"Current {0}: {1}\".format(testVar, collection_user[testVar]))\n",
    "else:\n",
    "    logger.error(\"Error!!!\")\n",
    "    logger.error(\"The variable {0} doesn't have the expected value.\".format(testVar))\n",
    "    logger.error(\"Expected: {0} \\t Current: {1}\".format(user[testVar], collection_user[testVar]))"
   ]
  },
  {
   "cell_type": "markdown",
   "metadata": {},
   "source": [
    "### Validation test for signature and signature'"
   ]
  },
  {
   "cell_type": "code",
   "execution_count": 48,
   "metadata": {},
   "outputs": [
    {
     "name": "stderr",
     "output_type": "stream",
     "text": [
      "\u001b[1;30mINFO\u001b[0m D is the right privat Key: 917754571566529405814565155805080837187650793096425767181901436161226074358904434589407238394392725276941835304692540942427039993012432449229683077013873560198250530620523566131330653469789217165571528414270924594016737603245184979406521189197283627392430314483720095609998043873322279065702819700958291563189152314995934633988193472903311591572363633100358380334101677683943311360448639431046056226631057392903931576495324250239163145219424877204783444601135971998243913852007651664286560734617549098485931788013992027475716300419267697646647053095736887338165498622898577250827356296844150952704832746067561617723\n"
     ]
    }
   ],
   "source": [
    "testVar = \"Sig\"\n",
    "\n",
    "if(collection_user[testVar] == signature):\n",
    "    collection_user[\"correct_key\"] = \"D\"\n",
    "    logger.info(\"D is the right privat Key: {0}\".format(collection_user[testVar]))\n",
    "else:\n",
    "    logger.error(\"Message was incorrectly signed!\")"
   ]
  }
 ],
 "metadata": {
  "interpreter": {
   "hash": "3758460f21197c8ccb9ff5aa273a08373d5a6b6c33118830d2be09d2cc1bf35f"
  },
  "kernelspec": {
   "display_name": "Python 3.9.10 64-bit (windows store)",
   "language": "python",
   "name": "python3"
  },
  "language_info": {
   "codemirror_mode": {
    "name": "ipython",
    "version": 3
   },
   "file_extension": ".py",
   "mimetype": "text/x-python",
   "name": "python",
   "nbconvert_exporter": "python",
   "pygments_lexer": "ipython3",
   "version": "3.9.0"
  },
  "orig_nbformat": 4
 },
 "nbformat": 4,
 "nbformat_minor": 2
}
