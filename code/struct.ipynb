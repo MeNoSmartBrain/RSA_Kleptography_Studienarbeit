{
 "cells": [
  {
   "cell_type": "markdown",
   "metadata": {},
   "source": [
    "# TODO\n",
    "- vP is not allow to be 0\n",
    "- add everything to dictionaries\n",
    "- attacker only works with dict\n",
    "- optimise\n",
    "- try catch when non invertible prime\n",
    "- t must not be prime --> optimise\n",
    "- when there is no R large/ small en\n",
    "- when delta of bounds is small then the possibility of a new generation of p is high \n",
    "- when p is smaller than there is is higher chance of success\n",
    "\n"
   ]
  },
  {
   "cell_type": "code",
   "execution_count": 499,
   "metadata": {},
   "outputs": [],
   "source": [
    "MIN_PRIME = 0\n",
    "MAX_PRIME = 10\n",
    "OPT_RANGE_REDUCTION = 0\n",
    "\n",
    "MAX_ITERS = 10\n",
    "\n",
    "\n",
    "\n",
    "msg = 12345678900987654321"
   ]
  },
  {
   "cell_type": "code",
   "execution_count": 500,
   "metadata": {},
   "outputs": [],
   "source": [
    "import sympy\n",
    "import random\n",
    "\n",
    "def genPrime():\n",
    "    return sympy.randprime(pow(2,MIN_PRIME), pow(2,MAX_PRIME))\n",
    "\n",
    "def genSlightlySmallerPrime():\n",
    "    return sympy.randprime(pow(2,MIN_PRIME), pow(2,MAX_PRIME-OPT_RANGE_REDUCTION))\n",
    "\n",
    "def genPrimeWithLimit(lb, ub):\n",
    "    return sympy.randprime(lb, ub)\n",
    "\n",
    "def genSmallPrime():\n",
    "    return sympy.randprime(pow(2,MIN_PRIME/2), pow(2,MAX_PRIME/2))\n",
    "\n",
    "def fermatPrime():\n",
    "    i = random.randint(0,4)\n",
    "    return pow(2, pow(2, i)) + 1\n",
    "\n",
    "def mmi(E, phiN):\n",
    "    return pow(E, -1, phiN)\n",
    "\n",
    "def calcN(P, Q):\n",
    "    return P*Q\n",
    "\n",
    "def calcPhiN(P, Q):\n",
    "    return (P-1) * (Q-1)\n",
    "\n",
    "def toBinary(dec):\n",
    "    return \"{0:b}\".format(dec)\n",
    "\n",
    "def toDecimal(bin):\n",
    "    return int(bin, 2)\n",
    "\n",
    "def concatenateInBinary(prev, tail):\n",
    "    prev = toBinary(prev)\n",
    "    tail = toBinary(tail)\n",
    "\n",
    "    prev = \"0\"*(MAX_PRIME-len(prev)) + prev\n",
    "    tail = \"0\"*(MAX_PRIME-len(tail)) + tail\n",
    "\n",
    "    return toDecimal(prev + tail)\n",
    "\n",
    "def splitInBinary(bin):\n",
    "    bin = toBinary(bin)\n",
    "    bin = \"0\"*(MAX_PRIME*2-len(bin)) + bin\n",
    "    prev = bin[:len(bin)//2]\n",
    "    tail = bin[len(bin)//2:]\n",
    "    return(toDecimal(prev), toDecimal(tail))\n",
    "\n"
   ]
  },
  {
   "cell_type": "markdown",
   "metadata": {},
   "source": [
    "# Voraussetzungen"
   ]
  },
  {
   "cell_type": "code",
   "execution_count": 501,
   "metadata": {},
   "outputs": [
    {
     "name": "stdout",
     "output_type": "stream",
     "text": [
      "{'P': 23, 'Q': 29, 'PhiN': 616, 'N': 667, 'E': 5, 'D': 493}\n"
     ]
    }
   ],
   "source": [
    "def createAttackerKey():\n",
    "    a_P = genSmallPrime()\n",
    "    a_Q= genSmallPrime()\n",
    "\n",
    "\n",
    "    a_PhiN = calcPhiN(a_P, a_Q)\n",
    "    a_N = calcN(a_P, a_Q)\n",
    "\n",
    "    a_E = fermatPrime()\n",
    "    a_D = mmi(a_E, a_PhiN)\n",
    "\n",
    "    return {\n",
    "        \"P\" : a_P,\n",
    "        \"Q\" : a_Q,\n",
    "        \"PhiN\" : a_PhiN,\n",
    "        \"N\" : a_N,\n",
    "        \"E\" : a_E,\n",
    "        \"D\" : a_D\n",
    "    }\n",
    "\n",
    "Attacker = {}\n",
    "\n",
    "created = False\n",
    "while not created:\n",
    "    try:\n",
    "        Attacker = createAttackerKey()\n",
    "        created = True\n",
    "    except ValueError:\n",
    "            print(\"Trying to generate Key failed. Trying again ...\")\n",
    "\n",
    "print(Attacker)"
   ]
  },
  {
   "cell_type": "markdown",
   "metadata": {},
   "source": [
    "# Generierung und Verschlüsselung"
   ]
  },
  {
   "cell_type": "markdown",
   "metadata": {},
   "source": [
    "## Schritt 1, 2 und 3"
   ]
  },
  {
   "cell_type": "code",
   "execution_count": 502,
   "metadata": {},
   "outputs": [
    {
     "name": "stdout",
     "output_type": "stream",
     "text": [
      "Bounds: [5093, 5108] \t P: 71 \t deltaB: 15\n",
      "Amount of failed attempts 0\n",
      "90 5107\n",
      "354 191\n",
      "362687\n",
      "tempN = P * Q + R\n",
      "362687 = 71 * 5107 + 90\n"
     ]
    }
   ],
   "source": [
    "r_too_large = 0\n",
    "bounds_too_close = 0\n",
    "\n",
    "# Do I have a problem when R = 0?\n",
    "# This has to be optimized\n",
    "# BAD Inspiration from https://www.cryptool.org/assets/ctp/documents/Kleptografie_kes_4-2010.pdf\n",
    "User = {}\n",
    "\n",
    "valid = False\n",
    "while not valid:\n",
    "    # Schritt 1\n",
    "    P = genSlightlySmallerPrime()\n",
    "    vP = pow(P, Attacker[\"E\"] ,Attacker[\"N\"])\n",
    "\n",
    "    # Schritt 2\n",
    "    t = genPrime() \n",
    "    tempN = concatenateInBinary(vP, t)\n",
    "    \n",
    "    # Schritt 3\n",
    "    # This is wrong, search for Q first. len(Q) ~ len(P). Q not max\n",
    "    ub = int(int(tempN)//int(P)) \n",
    "    lb = int((tempN - pow(2, MAX_PRIME) + 1) // P) \n",
    "    print(\"Bounds: [{0}, {1}] \\t P: {2} \\t deltaB: {3}\".format(lb,ub,P, ub-lb))\n",
    "    R = 0\n",
    "    Q = 0\n",
    "    try:\n",
    "        for i in range(MAX_ITERS):\n",
    "            Q = int(genPrimeWithLimit(lb, ub))\n",
    "            R = tempN - P*Q\n",
    "\n",
    "            if (R < pow(2,MAX_PRIME+1) and R >= 0):\n",
    "                valid = True\n",
    "                break\n",
    "            r_too_large += 1\n",
    "    except ValueError:\n",
    "        pass\n",
    "    User[\"P\"] = P\n",
    "    User[\"Q\"] = Q\n",
    "\n",
    "\n",
    "print(\"Amount of failed attempts\",r_too_large)\n",
    "\n",
    "Attacker[\"vP\"] = vP\n",
    "Attacker[\"R\"] = R\n",
    "\n",
    "print(R, Q)\n",
    "\n",
    "print(vP, t)\n",
    "\n",
    "print(tempN)\n",
    "\n",
    "Attacker[\"vP\"] = vP\n",
    "Attacker[\"R\"] = R\n",
    "\n",
    "print(\"tempN = P * Q + R\")\n",
    "print(tempN, \"=\", P, \"*\", Q, \"+\", R)"
   ]
  },
  {
   "cell_type": "markdown",
   "metadata": {},
   "source": [
    "## Schritt 4"
   ]
  },
  {
   "cell_type": "code",
   "execution_count": 503,
   "metadata": {},
   "outputs": [
    {
     "name": "stdout",
     "output_type": "stream",
     "text": [
      "vP||t: 101100010 10111111\n",
      "N':    1011000100010111111\n",
      "N : 1011000100001100101\n",
      "N': 1011000100010111111\n",
      "362597\n"
     ]
    }
   ],
   "source": [
    "N = calcN(User[\"P\"], User[\"Q\"])\n",
    "User[\"N\"] = N\n",
    "\n",
    "print(\"vP||t:\", toBinary(vP), toBinary(t))\n",
    "print(\"N':   \",toBinary(tempN))\n",
    "\n",
    "print(\"N :\",toBinary(N))\n",
    "print(\"N':\",toBinary(tempN))\n",
    "\n",
    "print(N)"
   ]
  },
  {
   "cell_type": "markdown",
   "metadata": {},
   "source": [
    "## Schritt 5"
   ]
  },
  {
   "cell_type": "code",
   "execution_count": 504,
   "metadata": {},
   "outputs": [
    {
     "name": "stdout",
     "output_type": "stream",
     "text": [
      "Trying to generate Key failed. Trying again ...\n",
      "User Key successfully generated!\n",
      "{'P': 71, 'Q': 5107, 'N': 362597, 'PhiN': 357420, 'E': 17, 'D': 147173}\n"
     ]
    }
   ],
   "source": [
    "def createUserKey():\n",
    "    PhiN = calcPhiN(P, Q)\n",
    "    E = fermatPrime()\n",
    "    D = mmi(E, PhiN)\n",
    "\n",
    "    return  {\n",
    "        \"PhiN\" : PhiN,\n",
    "        \"E\" : E,\n",
    "        \"D\" : D\n",
    "    }\n",
    "\n",
    "created = False\n",
    "while not created:\n",
    "    try:\n",
    "        User.update(createUserKey())\n",
    "        created = True\n",
    "    except ValueError:\n",
    "            print(\"Trying to generate Key failed. Trying again ...\")\n",
    "print(\"User Key successfully generated!\")\n",
    "print(User)"
   ]
  },
  {
   "cell_type": "markdown",
   "metadata": {},
   "source": [
    "## Schritt 6"
   ]
  },
  {
   "cell_type": "code",
   "execution_count": 505,
   "metadata": {},
   "outputs": [],
   "source": [
    "cipher = pow(msg, User[\"E\"], User[\"N\"])\n",
    "signature = pow(msg, User[\"D\"], User[\"N\"])"
   ]
  },
  {
   "cell_type": "markdown",
   "metadata": {},
   "source": [
    "# Angriff"
   ]
  },
  {
   "cell_type": "markdown",
   "metadata": {},
   "source": [
    "## Schritt 1"
   ]
  },
  {
   "cell_type": "code",
   "execution_count": 506,
   "metadata": {},
   "outputs": [
    {
     "name": "stdout",
     "output_type": "stream",
     "text": [
      "{'N': 362597, 'E': 17}\n"
     ]
    }
   ],
   "source": [
    "pub_User = {\n",
    "    \"N\" : User[\"N\"],\n",
    "    \"E\" : User[\"E\"]\n",
    "}\n",
    "\n",
    "print(pub_User)\n",
    "\n",
    "collection_User = {\n",
    "    \"N\" : pub_User[\"N\"],\n",
    "    \"E\" : pub_User[\"E\"]\n",
    "}"
   ]
  },
  {
   "cell_type": "markdown",
   "metadata": {},
   "source": [
    "## Schritt 2"
   ]
  },
  {
   "cell_type": "code",
   "execution_count": 507,
   "metadata": {},
   "outputs": [
    {
     "name": "stdout",
     "output_type": "stream",
     "text": [
      "Known vP: 101100010\n",
      "Calc vP:  101100010\n",
      "1011000100001100101\n",
      "1011010\n",
      "90\n"
     ]
    }
   ],
   "source": [
    "exp_vP = splitInBinary(User[\"N\"])[0]\n",
    "\n",
    "print(\"Known vP:\",toBinary(Attacker[\"vP\"]))\n",
    "print(\"Calc vP: \",toBinary(exp_vP))\n",
    "print(toBinary(User[\"N\"]))\n",
    "\n",
    "\n",
    "print(toBinary(Attacker[\"R\"]))\n",
    "print(Attacker[\"R\"])\n",
    "\n",
    "\n"
   ]
  },
  {
   "cell_type": "markdown",
   "metadata": {},
   "source": [
    "## Schritt 3"
   ]
  },
  {
   "cell_type": "code",
   "execution_count": 508,
   "metadata": {},
   "outputs": [
    {
     "name": "stdout",
     "output_type": "stream",
     "text": [
      "71 227\n",
      "Actual value of P: 71\n"
     ]
    }
   ],
   "source": [
    "exp_P = pow(exp_vP, Attacker[\"D\"], Attacker[\"N\"])\n",
    "\n",
    "exp_alt_P = pow(exp_vP+1, Attacker[\"D\"], Attacker[\"N\"])\n",
    "\n",
    "print(exp_P, exp_alt_P)\n",
    "print(\"Actual value of P:\", User[\"P\"])"
   ]
  },
  {
   "cell_type": "markdown",
   "metadata": {},
   "source": [
    "# Schritt 4"
   ]
  },
  {
   "cell_type": "code",
   "execution_count": 509,
   "metadata": {},
   "outputs": [
    {
     "name": "stdout",
     "output_type": "stream",
     "text": [
      "5107 1597\n",
      "Actual value of Q: 5107\n"
     ]
    }
   ],
   "source": [
    "# Potential to optimize when N/P not hole Number\n",
    "exp_Q = int(pub_User[\"N\"]//exp_P)\n",
    "\n",
    "exp_alt_Q = int(pub_User[\"N\"]//exp_alt_P)\n",
    "\n",
    "print(exp_Q, exp_alt_Q)\n",
    "print(\"Actual value of Q:\", User[\"Q\"])"
   ]
  },
  {
   "cell_type": "markdown",
   "metadata": {},
   "source": [
    "## Schritt 5"
   ]
  },
  {
   "cell_type": "code",
   "execution_count": 510,
   "metadata": {},
   "outputs": [
    {
     "name": "stdout",
     "output_type": "stream",
     "text": [
      "357420 360696\n",
      "Actual value of PhiN: 357420\n",
      "147173 254609\n",
      "Actual value of D: 147173\n"
     ]
    }
   ],
   "source": [
    "exp_PhiN = int(calcPhiN(exp_P, exp_Q))\n",
    "\n",
    "exp_alt_PhiN = int(calcPhiN(exp_alt_P, exp_alt_Q))\n",
    "\n",
    "print(exp_PhiN, exp_alt_PhiN)\n",
    "print(\"Actual value of PhiN:\", User[\"PhiN\"])\n",
    "\n",
    "exp_D = mmi(pub_User[\"E\"], exp_PhiN)\n",
    "\n",
    "exp_alt_D = mmi(pub_User[\"E\"], exp_alt_PhiN)\n",
    "\n",
    "print(exp_D, exp_alt_D)\n",
    "print(\"Actual value of D:\", User[\"D\"])"
   ]
  },
  {
   "cell_type": "markdown",
   "metadata": {},
   "source": [
    "## Schritt 6"
   ]
  },
  {
   "cell_type": "code",
   "execution_count": 511,
   "metadata": {},
   "outputs": [
    {
     "name": "stdout",
     "output_type": "stream",
     "text": [
      "D is the right privat Key: 147173\n"
     ]
    }
   ],
   "source": [
    "mal_signature = pow(msg, exp_D, User[\"N\"])\n",
    "alt_mal_signature = pow(msg, exp_alt_D, User[\"N\"])\n",
    "\n",
    "if(signature == mal_signature):\n",
    "    print(\"D is the right privat Key:\",exp_D)\n",
    "elif(signature == alt_mal_signature):\n",
    "    print(\"D' is the right privat Key:\",exp_alt_D)\n"
   ]
  }
 ],
 "metadata": {
  "interpreter": {
   "hash": "3758460f21197c8ccb9ff5aa273a08373d5a6b6c33118830d2be09d2cc1bf35f"
  },
  "kernelspec": {
   "display_name": "Python 3.9.10 64-bit (windows store)",
   "language": "python",
   "name": "python3"
  },
  "language_info": {
   "codemirror_mode": {
    "name": "ipython",
    "version": 3
   },
   "file_extension": ".py",
   "mimetype": "text/x-python",
   "name": "python",
   "nbconvert_exporter": "python",
   "pygments_lexer": "ipython3",
   "version": "3.9.0"
  },
  "orig_nbformat": 4
 },
 "nbformat": 4,
 "nbformat_minor": 2
}
