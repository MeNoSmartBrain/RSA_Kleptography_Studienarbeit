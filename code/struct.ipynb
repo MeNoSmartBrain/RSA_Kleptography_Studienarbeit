{
 "cells": [
  {
   "cell_type": "markdown",
   "metadata": {},
   "source": [
    "# TODO\n",
    "- vP is not allow to be 0 or 1\n",
    "- DONE add everything to dictionaries\n",
    "- DONE attacker only works with dict\n",
    "- optimise\n",
    "- Max it is dependent on deltaB\n",
    "- DONE t must not be prime --> optimise\n",
    "- DONE try catch when non invertible prime\n",
    "- DONE when there is no R large/ small en\n",
    "- DONE when delta of bounds is small then the possibility of a new generation of p is high \n",
    "- DONE when p is smaller than there is is higher chance of success\n",
    "- Problem when m>=n \n",
    "- Use secret module instead of the random module for cryptographic purposes\n",
    "- DONE camelCase to snake_case if required\n",
    "- gen_prime() is not used\n",
    "- Check if N/P is not a hole number"
   ]
  },
  {
   "cell_type": "markdown",
   "metadata": {},
   "source": [
    "### Import and Configuration"
   ]
  },
  {
   "cell_type": "code",
   "execution_count": 56,
   "metadata": {},
   "outputs": [],
   "source": [
    "import sympy\n",
    "import random\n",
    "import coloredlogs, logging\n",
    "import math"
   ]
  },
  {
   "cell_type": "code",
   "execution_count": 57,
   "metadata": {},
   "outputs": [],
   "source": [
    "coloredlogs.install(fmt='%(levelname)s %(message)s')\n",
    "logger = logging.getLogger()\n",
    "logger.setLevel(logging.NOTSET)"
   ]
  },
  {
   "cell_type": "code",
   "execution_count": 58,
   "metadata": {},
   "outputs": [],
   "source": [
    "MIN_PRIME = 0\n",
    "MAX_PRIME = 10\n",
    "OPT_RANGE_REDUCTION = 0\n",
    "\n",
    "MAX_ITERS = 10\n",
    "\n",
    "msg = 12345678900987654321"
   ]
  },
  {
   "cell_type": "code",
   "execution_count": 59,
   "metadata": {},
   "outputs": [],
   "source": [
    "def gen_prime():\n",
    "    return sympy.randprime(pow(2,MIN_PRIME), pow(2,MAX_PRIME))\n",
    "\n",
    "def gen_prime_with_optimized_bit_limit():\n",
    "    return sympy.randprime(pow(2,MIN_PRIME), pow(2,MAX_PRIME-OPT_RANGE_REDUCTION))\n",
    "\n",
    "def gen_prime_with_boundaries(lb, ub):\n",
    "    return sympy.randprime(lb, ub)\n",
    "\n",
    "def gen_prime_half_size():\n",
    "    return sympy.randprime(pow(2,MIN_PRIME/2), pow(2,MAX_PRIME/2))\n",
    "\n",
    "def gen_random_number_with_bit_limit():\n",
    "    return random.randint(0, pow(2, MAX_PRIME))\n",
    "\n",
    "def fermat_prime():\n",
    "    i = random.randint(0,4)\n",
    "    return pow(2, pow(2, i)) + 1\n",
    "\n",
    "def modular_multiplicative_inverse(E, phiN):\n",
    "    return pow(E, -1, phiN)\n",
    "\n",
    "def calc_n(P, Q):\n",
    "    return P*Q\n",
    "\n",
    "def calc_phi_n(P, Q):\n",
    "    return (P-1) * (Q-1)\n",
    "\n",
    "def to_binary(dec):\n",
    "    return \"{0:b}\".format(dec)\n",
    "\n",
    "def to_decimal(bin):\n",
    "    return int(bin, 2)\n",
    "\n",
    "def concatenate_in_binary(prev, tail):\n",
    "    prev = to_binary(prev)\n",
    "    tail = to_binary(tail)\n",
    "\n",
    "    prev = \"0\"*(MAX_PRIME-len(prev)) + prev\n",
    "    tail = \"0\"*(MAX_PRIME-len(tail)) + tail\n",
    "\n",
    "    return to_decimal(prev + tail)\n",
    "\n",
    "def split_in_binary(bin):\n",
    "    bin = to_binary(bin)\n",
    "    bin = \"0\"*(MAX_PRIME*2-len(bin)) + bin\n",
    "    prev = bin[:len(bin)//2]\n",
    "    tail = bin[len(bin)//2:]\n",
    "    return(to_decimal(prev), to_decimal(tail))\n"
   ]
  },
  {
   "cell_type": "markdown",
   "metadata": {},
   "source": [
    "# Voraussetzungen"
   ]
  },
  {
   "cell_type": "code",
   "execution_count": 60,
   "metadata": {},
   "outputs": [
    {
     "name": "stderr",
     "output_type": "stream",
     "text": [
      "\u001B[1;30mINFO\u001B[0m Attacker Key successfully generated!\n"
     ]
    }
   ],
   "source": [
    "def create_attacker_key():\n",
    "    a_P = gen_prime_half_size()\n",
    "    a_Q= gen_prime_half_size()\n",
    "\n",
    "\n",
    "    a_PhiN = calc_phi_n(a_P, a_Q)\n",
    "    a_N = calc_n(a_P, a_Q)\n",
    "\n",
    "    a_E = fermat_prime()\n",
    "    a_D = modular_multiplicative_inverse(a_E, a_PhiN)\n",
    "\n",
    "    return {\n",
    "        \"P\" : a_P,\n",
    "        \"Q\" : a_Q,\n",
    "        \"PhiN\" : a_PhiN,\n",
    "        \"N\" : a_N,\n",
    "        \"E\" : a_E,\n",
    "        \"D\" : a_D\n",
    "    }\n",
    "\n",
    "attacker = {}\n",
    "\n",
    "created = False\n",
    "while not created:\n",
    "    try:\n",
    "        attacker = create_attacker_key()\n",
    "        created = True\n",
    "    except ValueError:\n",
    "            logger.error(\"Trying to generate Key failed. Trying again ...\")\n",
    "logger.info(\"Attacker Key successfully generated!\")"
   ]
  },
  {
   "cell_type": "markdown",
   "metadata": {},
   "source": [
    "# Generierung und Verschlüsselung"
   ]
  },
  {
   "cell_type": "markdown",
   "metadata": {},
   "source": [
    "## Schritt 1, 2 und 3"
   ]
  },
  {
   "cell_type": "code",
   "execution_count": 61,
   "metadata": {},
   "outputs": [
    {
     "name": "stderr",
     "output_type": "stream",
     "text": [
      "\u001B[1;30mINFO\u001B[0m Amount of failed attempts: 0\n",
      "\u001B[1;30mINFO\u001B[0m tempN = P * Q + R\n"
     ]
    },
    {
     "name": "stdout",
     "output_type": "stream",
     "text": [
      "P:  853\n",
      "Lower:  466\n",
      "Upper:  468\n"
     ]
    }
   ],
   "source": [
    "r_too_large = 0\n",
    "bounds_too_close = 0\n",
    "\n",
    "# Do I have a problem when R = 0?\n",
    "# This has to be optimized\n",
    "# BAD Inspiration from https://www.cryptool.org/assets/ctp/documents/Kleptografie_kes_4-2010.pdf\n",
    "user = {}\n",
    "\n",
    "valid = False\n",
    "while not valid:\n",
    "    # Schritt 1\n",
    "    P = gen_prime_with_optimized_bit_limit()\n",
    "    vP = pow(P, attacker[\"E\"] ,attacker[\"N\"])\n",
    "\n",
    "    lower_bound_Q = math.ceil(concatenate_in_binary((vP-1), 0)/P)\n",
    "    upper_bound_Q = math.floor(concatenate_in_binary(vP, (pow(2, MAX_PRIME)-2))/P)\n",
    "\n",
    "    \n",
    "\n",
    "    try:\n",
    "        Q = int(gen_prime_with_boundaries(lower_bound_Q, upper_bound_Q))\n",
    "        valid = True\n",
    "\n",
    "        print(\"P: \",P)\n",
    "    \n",
    "        print(\"Lower: \",lower_bound_Q)\n",
    "        print(\"Upper: \",upper_bound_Q)\n",
    "    except ValueError:\n",
    "        logger.error(\"Margain to small\")\n",
    "        pass\n",
    "\n",
    "\n",
    "    # # Schritt 2\n",
    "    # # t = gen_random_number_with_bit_limit() \n",
    "    # t = pow(2, MAX_PRIME+1) -1\n",
    "    # tempN = concatenate_in_binary(vP, t)\n",
    "    \n",
    "    # # Schritt 3\n",
    "    # # This is wrong, search for Q first. len(Q) ~ len(P). Q not max\n",
    "    # ub = int(int(tempN)//int(P)) \n",
    "    # lb = int((tempN - pow(2, MAX_PRIME) + 1) // P) \n",
    "    # # logger.info(\"Bounds: [{0}, {1}] \\t P: {2} \\t deltaB: {3}\".format(lb,ub,P, ub-lb))\n",
    "    # R = 0\n",
    "    # Q = 0\n",
    "    # try:\n",
    "    #     for i in range(MAX_ITERS):\n",
    "    #         Q = int(gen_prime_with_boundaries(lb, ub))\n",
    "    #         R = tempN - P*Q\n",
    "\n",
    "    #         if (R < pow(2,MAX_PRIME+1) and R >= 0):\n",
    "    #             valid = True\n",
    "    #             logger.info(\"Iterations: {0}\".format(i))\n",
    "    #             break\n",
    "    #         r_too_large += 1\n",
    "    # except ValueError:\n",
    "    #     pass\n",
    "\n",
    "    \n",
    "    user[\"P\"] = P\n",
    "    user[\"Q\"] = Q\n",
    "\n",
    "attacker[\"vP\"] = vP\n",
    "# attacker[\"R\"] = R\n",
    "\n",
    "logger.info(\"Amount of failed attempts: {0}\".format(r_too_large))\n",
    "\n",
    "logger.info(\"tempN = P * Q + R\")\n",
    "# logger.info(\"{0} = {1} * {2} + {3}\".format(tempN, P, Q, R))"
   ]
  },
  {
   "cell_type": "markdown",
   "metadata": {},
   "source": [
    "## Schritt 4"
   ]
  },
  {
   "cell_type": "code",
   "execution_count": 62,
   "metadata": {},
   "outputs": [],
   "source": [
    "user[\"N\"] = calc_n(user[\"P\"], user[\"Q\"])"
   ]
  },
  {
   "cell_type": "markdown",
   "metadata": {},
   "source": [
    "## Schritt 5"
   ]
  },
  {
   "cell_type": "code",
   "execution_count": 63,
   "metadata": {},
   "outputs": [
    {
     "name": "stderr",
     "output_type": "stream",
     "text": [
      "\u001B[1;30mINFO\u001B[0m User Key successfully generated!\n"
     ]
    }
   ],
   "source": [
    "def create_user_key():\n",
    "    PhiN = calc_phi_n(P, Q)\n",
    "    E = fermat_prime()\n",
    "    D = modular_multiplicative_inverse(E, PhiN)\n",
    "\n",
    "    return  {\n",
    "        \"PhiN\" : PhiN,\n",
    "        \"E\" : E,\n",
    "        \"D\" : D\n",
    "    }\n",
    "\n",
    "created = False\n",
    "while not created:\n",
    "    try:\n",
    "        user.update(create_user_key())\n",
    "        created = True\n",
    "    except ValueError:\n",
    "            logger.info(\"Trying to generate Key failed. Trying again ...\")\n",
    "logger.info(\"User Key successfully generated!\")"
   ]
  },
  {
   "cell_type": "markdown",
   "metadata": {},
   "source": [
    "## Schritt 6"
   ]
  },
  {
   "cell_type": "code",
   "execution_count": 64,
   "metadata": {},
   "outputs": [],
   "source": [
    "cipher = pow(msg, user[\"E\"], user[\"N\"])\n",
    "signature = pow(msg, user[\"D\"], user[\"N\"])"
   ]
  },
  {
   "cell_type": "markdown",
   "metadata": {},
   "source": [
    "# Angriff"
   ]
  },
  {
   "cell_type": "code",
   "execution_count": 65,
   "metadata": {},
   "outputs": [],
   "source": [
    "class Calc_Secret_Result():\n",
    "    was_successfull = True\n",
    "    key_parameter = {}"
   ]
  },
  {
   "cell_type": "code",
   "execution_count": 66,
   "metadata": {},
   "outputs": [],
   "source": [
    "def calc_secrets(vP):\n",
    "    calc_secret_result = Calc_Secret_Result()\n",
    "\n",
    "    P = pow(vP, attacker[\"D\"], attacker[\"N\"])\n",
    "    # Potential to optimize when N/P not hole Number\n",
    "    Q =  int(pub_user[\"N\"]//P)\n",
    "    PhiN =  int(calc_phi_n(P, Q))\n",
    "    try:\n",
    "        D = modular_multiplicative_inverse(pub_user[\"E\"], PhiN)\n",
    "        calc_secret_result.key_parameter = {\n",
    "        \"P\" : P,\n",
    "        \"Q\" : Q,\n",
    "        \"PhiN\" : PhiN,\n",
    "        \"D\" : D, \n",
    "    }\n",
    "    except ValueError:\n",
    "        calc_secret_result.was_successfull = False\n",
    "        logger.info(\"Trying to generate Key failed. Trying again ...\")\n",
    "    \n",
    "    return calc_secret_result"
   ]
  },
  {
   "cell_type": "code",
   "execution_count": 67,
   "metadata": {},
   "outputs": [],
   "source": [
    "def validate_through_signature(key_parameter):\n",
    "    key_parameter[\"Sig\"] = pow(msg, key_parameter[\"D\"], collection_user[\"N\"])\n",
    "    if (key_parameter[\"Sig\"] == signature):\n",
    "        collection_user.update(key_parameter)\n",
    "        return True\n",
    "    return False\n",
    "    "
   ]
  },
  {
   "cell_type": "markdown",
   "metadata": {},
   "source": [
    "## Schritt 1"
   ]
  },
  {
   "cell_type": "code",
   "execution_count": 68,
   "metadata": {},
   "outputs": [],
   "source": [
    "pub_user = {\n",
    "    \"N\" : user[\"N\"],\n",
    "    \"E\" : user[\"E\"]\n",
    "}\n",
    "\n",
    "collection_user = {\n",
    "    \"N\" : pub_user[\"N\"],\n",
    "    \"E\" : pub_user[\"E\"]\n",
    "}"
   ]
  },
  {
   "cell_type": "markdown",
   "metadata": {},
   "source": [
    "## Schritt 2"
   ]
  },
  {
   "cell_type": "code",
   "execution_count": 69,
   "metadata": {},
   "outputs": [],
   "source": [
    "collection_user[\"vP\"] = split_in_binary(user[\"N\"])[0]\n",
    "collection_user[\"vP'\"] = collection_user[\"vP\"]+1"
   ]
  },
  {
   "cell_type": "code",
   "execution_count": 70,
   "metadata": {},
   "outputs": [
    {
     "name": "stderr",
     "output_type": "stream",
     "text": [
      "\u001B[1;30mINFO\u001B[0m Trying to generate Key failed. Trying again ...\n",
      "\u001B[1;30mINFO\u001B[0m Second key parameters calculated with error! First key parameters must be correct!\n"
     ]
    }
   ],
   "source": [
    "secrets_for_vP = calc_secrets(collection_user[\"vP\"])\n",
    "secrets_for_vP_plus_one = calc_secrets(collection_user[\"vP'\"])\n",
    "\n",
    "if(secrets_for_vP.was_successfull and secrets_for_vP_plus_one.was_successfull):\n",
    "    logger.info(\"Both key parameters of D were successfully calculated.\")\n",
    "    if(validate_through_signature(secrets_for_vP.key_parameter)):\n",
    "        logger.info(\"D is the right privat Key: {0}\".format(collection_user[\"D\"]))\n",
    "    elif(validate_through_signature(secrets_for_vP_plus_one.key_parameter)):\n",
    "        logger.info(\"D' is the right privat Key: {0}\".format(collection_user[\"D\"]))\n",
    "elif(not secrets_for_vP.was_successfull and not secrets_for_vP_plus_one.was_successfull):\n",
    "    logger.error(\"Both key parameters calculated with errors!\")\n",
    "elif(not secrets_for_vP_plus_one.was_successfull):\n",
    "    logger.info(\"Second key parameters calculated with error! First key parameters must be correct!\")\n",
    "    if(validate_through_signature(secrets_for_vP.key_parameter)):\n",
    "        logger.info(\"D is the right privat Key: {0}\".format(collection_user[\"D\"]))\n",
    "elif(not secrets_for_vP.was_successfull):\n",
    "    logger.info(\"First key parameters calculated with error! Second key parameters must be correct!\")\n",
    "    if(validate_through_signature(secrets_for_vP_plus_one.key_parameter)):\n",
    "        logger.info(\"D' is the right privat Key: {0}\".format(collection_user[\"D\"]))\n",
    "else:\n",
    "    logger.error(\"Logical programming error!\")\n"
   ]
  },
  {
   "cell_type": "markdown",
   "metadata": {},
   "source": [
    "# Result"
   ]
  },
  {
   "cell_type": "code",
   "execution_count": 71,
   "metadata": {},
   "outputs": [],
   "source": [
    "def sort_dic(dict):\n",
    "    return {key: dict[key] for key in sorted(dict)}"
   ]
  },
  {
   "cell_type": "code",
   "execution_count": 72,
   "metadata": {},
   "outputs": [],
   "source": [
    "# logger.info(sort_dic(attacker))\n",
    "# logger.info(sort_dic(user))\n",
    "# logger.info(sort_dic(collection_user))"
   ]
  },
  {
   "cell_type": "markdown",
   "metadata": {},
   "source": [
    "# Validation Tests"
   ]
  },
  {
   "cell_type": "markdown",
   "metadata": {},
   "source": [
    "### Validation test for vP"
   ]
  },
  {
   "cell_type": "code",
   "execution_count": 73,
   "metadata": {},
   "outputs": [
    {
     "name": "stderr",
     "output_type": "stream",
     "text": [
      "\u001B[1;30mINFO\u001B[0m Success!!!\n",
      "\u001B[1;30mINFO\u001B[0m The variable vP or vP' is in the expected state: 389\n",
      "\u001B[1;30mINFO\u001B[0m Current vP: 389 \t Current vP': 390\n"
     ]
    }
   ],
   "source": [
    "testVar = \"vP\"\n",
    "altTestVar = \"vP'\"\n",
    "\n",
    "if(collection_user[testVar] == attacker[testVar] or collection_user[altTestVar] == attacker[testVar]):\n",
    "    logger.info(\"Success!!!\")\n",
    "    logger.info(\"The variable {0} or {1} is in the expected state: {2}\".format(testVar, altTestVar, attacker[testVar]))\n",
    "    logger.info(\"Current {0}: {1} \\t Current {2}: {3}\".format(testVar, collection_user[testVar], altTestVar, collection_user[altTestVar]))\n",
    "else:\n",
    "    logger.error(\"Error!!!\")\n",
    "    logger.error(\"The variable {0} doesn't have the expected value.\".format(testVar))\n",
    "    logger.error(\"Expected: {0} \\t Current: {1}\".format(attacker[testVar], collection_user[testVar]))"
   ]
  },
  {
   "cell_type": "markdown",
   "metadata": {},
   "source": [
    "### Validation test for P and P'"
   ]
  },
  {
   "cell_type": "code",
   "execution_count": 74,
   "metadata": {},
   "outputs": [
    {
     "ename": "KeyError",
     "evalue": "'P'",
     "output_type": "error",
     "traceback": [
      "\u001B[1;31m---------------------------------------------------------------------------\u001B[0m",
      "\u001B[1;31mKeyError\u001B[0m                                  Traceback (most recent call last)",
      "Input \u001B[1;32mIn [74]\u001B[0m, in \u001B[0;36m<module>\u001B[1;34m\u001B[0m\n\u001B[0;32m      1\u001B[0m testVar \u001B[38;5;241m=\u001B[39m \u001B[38;5;124m\"\u001B[39m\u001B[38;5;124mP\u001B[39m\u001B[38;5;124m\"\u001B[39m\n\u001B[1;32m----> 3\u001B[0m \u001B[38;5;28;01mif\u001B[39;00m(\u001B[43mcollection_user\u001B[49m\u001B[43m[\u001B[49m\u001B[43mtestVar\u001B[49m\u001B[43m]\u001B[49m \u001B[38;5;241m==\u001B[39m user[testVar]):\n\u001B[0;32m      4\u001B[0m     logger\u001B[38;5;241m.\u001B[39minfo(\u001B[38;5;124m\"\u001B[39m\u001B[38;5;124mSuccess!!!\u001B[39m\u001B[38;5;124m\"\u001B[39m)\n\u001B[0;32m      5\u001B[0m     logger\u001B[38;5;241m.\u001B[39minfo(\u001B[38;5;124m\"\u001B[39m\u001B[38;5;124mThe variables \u001B[39m\u001B[38;5;132;01m{0}\u001B[39;00m\u001B[38;5;124m are in the expected state:\u001B[39m\u001B[38;5;124m\"\u001B[39m\u001B[38;5;241m.\u001B[39mformat(testVar))\n",
      "\u001B[1;31mKeyError\u001B[0m: 'P'"
     ]
    }
   ],
   "source": [
    "testVar = \"P\"\n",
    "\n",
    "if(collection_user[testVar] == user[testVar]):\n",
    "    logger.info(\"Success!!!\")\n",
    "    logger.info(\"The variables {0} are in the expected state:\".format(testVar))\n",
    "    logger.info(\"Current {0}: {1}\".format(testVar, collection_user[testVar]))\n",
    "else:\n",
    "    logger.error(\"Error!!!\")\n",
    "    logger.error(\"The variable {0} doesn't have the expected value.\".format(testVar))\n",
    "    logger.error(\"Expected: {0} \\t Current: {1}\".format(user[testVar], collection_user[testVar]))"
   ]
  },
  {
   "cell_type": "markdown",
   "metadata": {},
   "source": [
    "### Validation test for Q and Q'"
   ]
  },
  {
   "cell_type": "code",
   "execution_count": null,
   "metadata": {},
   "outputs": [
    {
     "name": "stderr",
     "output_type": "stream",
     "text": [
      "\u001B[1;30mINFO\u001B[0m Success!!!\n",
      "\u001B[1;30mINFO\u001B[0m The variables Q are in the expected state!\n",
      "\u001B[1;30mINFO\u001B[0m Current Q: 532000395873127143997729716885179821652078618902636638732404060344144589237346651801417587359542834416047911099194755802907278745709944499503518333307358346344132084833681887116211102872670630552811149282224070801062838605508432627045389750341602303691886298851773738623270555639748182972262549646832578540177\n"
     ]
    }
   ],
   "source": [
    "testVar = \"Q\"\n",
    "\n",
    "if(collection_user[testVar] == user[testVar]):\n",
    "    logger.info(\"Success!!!\")\n",
    "    logger.info(\"The variables {0} are in the expected state!\".format(testVar))\n",
    "    logger.info(\"Current {0}: {1}\".format(testVar, collection_user[testVar]))\n",
    "else:\n",
    "    logger.error(\"Error!!!\")\n",
    "    logger.error(\"The variable {0} doesn't have the expected value.\".format(testVar))\n",
    "    logger.error(\"Expected: {0} \\t Current: {1}\".format(user[testVar], attacker[testVar]))"
   ]
  },
  {
   "cell_type": "markdown",
   "metadata": {},
   "source": [
    "### Validation test for PhiN and PhiN'"
   ]
  },
  {
   "cell_type": "code",
   "execution_count": null,
   "metadata": {},
   "outputs": [
    {
     "name": "stderr",
     "output_type": "stream",
     "text": [
      "\u001B[1;30mINFO\u001B[0m Success!!!\n",
      "\u001B[1;30mINFO\u001B[0m The variables PhiN are in the expected state:\n",
      "\u001B[1;30mINFO\u001B[0m Current PhiN: 69680211169244889098966824008678441984600435738992785020107746848202918275383162564586507675041251494518942607793632771724909614545290479092864343551697789302448544931566618731436913547880166659262504263927823399113215587986814429019300708430875920571403462925795613442010427027459056907093940845516390348481408836757528681225114384339601448212957972192858891961389619077407139351135978249826438161667653745363238032485526116289501665857913671854535484573968047572183247613668080854613611956873553127147490659408238421243308625625399096056565354182178439320655433321347904176269964104997799405783536859654231240608\n"
     ]
    }
   ],
   "source": [
    "testVar = \"PhiN\"\n",
    "\n",
    "if(collection_user[testVar] == user[testVar]):\n",
    "    logger.info(\"Success!!!\")\n",
    "    logger.info(\"The variables {0} are in the expected state:\".format(testVar))\n",
    "    logger.info(\"Current {0}: {1}\".format(testVar, collection_user[testVar]))\n",
    "else:\n",
    "    logger.error(\"Error!!!\")\n",
    "    logger.error(\"The variable {0} doesn't have the expected value.\".format(testVar))\n",
    "    logger.error(\"Expected: {0} \\t Current: {1}\".format(user[testVar], collection_user[testVar]))"
   ]
  },
  {
   "cell_type": "markdown",
   "metadata": {},
   "source": [
    "### Validation test for D and D'"
   ]
  },
  {
   "cell_type": "code",
   "execution_count": null,
   "metadata": {},
   "outputs": [
    {
     "name": "stderr",
     "output_type": "stream",
     "text": [
      "\u001B[1;30mINFO\u001B[0m Success!!!\n",
      "\u001B[1;30mINFO\u001B[0m The variables D are in the expected state:\n",
      "\u001B[1;30mINFO\u001B[0m Current D: 41808126701546933459380094405207065190760261443395671012064648108921750965229897538751904605024750896711365564676179663034945768727174287455718606131018673581469126958939971238862148128728099995557502558356694039467929352792088657411580425058525552342842077755477368065206256216475434144256364507309834209088845302054517208735068630603760868927774783315715335176833771446444283610681586949895862897000592247217942819491315669773700999514748203112721290744380828543309948568200848512768167174124131876288494395644943052745985175375239457633939212509307063592393259992808742505761978462998679643470122115792538744365\n"
     ]
    }
   ],
   "source": [
    "testVar = \"D\"\n",
    "altTestVar = \"D'\"\n",
    "\n",
    "if(collection_user[testVar] == user[testVar]):\n",
    "    logger.info(\"Success!!!\")\n",
    "    logger.info(\"The variables {0} are in the expected state:\".format(testVar))\n",
    "    logger.info(\"Current {0}: {1}\".format(testVar, collection_user[testVar]))\n",
    "else:\n",
    "    logger.error(\"Error!!!\")\n",
    "    logger.error(\"The variable {0} doesn't have the expected value.\".format(testVar))\n",
    "    logger.error(\"Expected: {0} \\t Current: {1}\".format(user[testVar], collection_user[testVar]))"
   ]
  },
  {
   "cell_type": "markdown",
   "metadata": {},
   "source": [
    "### Validation test for signature and signature'"
   ]
  },
  {
   "cell_type": "code",
   "execution_count": null,
   "metadata": {},
   "outputs": [
    {
     "name": "stderr",
     "output_type": "stream",
     "text": [
      "\u001B[1;30mINFO\u001B[0m D is the right privat Key: 57237726590858504813250198664048193274159749055985008043621584876466360217570112171939107963168467914223148559434413924458084876519949177276881934173090727446247923846521126313296148125540962890445706295040989488650041925218241421542960643124756004161344512948707495317471341466810432273018976027311830163518697229949626875216502310950266817216906596873660372715940285868204965502453904142803781803614296794806332879873227196524759493234560939236755023591729071376982335033879292629478352530642007765706720326153195104516685392108765050675285799459873243066639856300219325330696766961641428857578937479392872861634\n"
     ]
    }
   ],
   "source": [
    "testVar = \"Sig\"\n",
    "\n",
    "if(collection_user[testVar] == signature):\n",
    "    collection_user[\"correct_key\"] = \"D\"\n",
    "    logger.info(\"D is the right privat Key: {0}\".format(collection_user[testVar]))\n",
    "else:\n",
    "    logger.error(\"Message was incorrectly signed!\")"
   ]
  }
 ],
 "metadata": {
  "interpreter": {
   "hash": "3758460f21197c8ccb9ff5aa273a08373d5a6b6c33118830d2be09d2cc1bf35f"
  },
  "kernelspec": {
   "display_name": "Python 3.9.10 64-bit (windows store)",
   "language": "python",
   "name": "python3"
  },
  "language_info": {
   "codemirror_mode": {
    "name": "ipython",
    "version": 3
   },
   "file_extension": ".py",
   "mimetype": "text/x-python",
   "name": "python",
   "nbconvert_exporter": "python",
   "pygments_lexer": "ipython3",
   "version": "3.9.0"
  },
  "orig_nbformat": 4
 },
 "nbformat": 4,
 "nbformat_minor": 2
}